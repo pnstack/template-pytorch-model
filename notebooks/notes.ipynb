{
 "cells": [
  {
   "cell_type": "code",
   "execution_count": null,
   "metadata": {},
   "outputs": [],
   "source": [
    "from src.data.data_loader import get_train_dataset\n",
    "from torchvision import datasets, transforms\n",
    "import torch.nn as nn\n",
    "import pprint\n",
    "import torch\n",
    "import torch.optim as optim\n",
    "import torch.nn.functional as F\n",
    "from src.models.model import ShapeClassifier\n",
    "\n",
    "from src.configs.model_config import ModelConfig\n",
    "from src.data.data_loader import train_loader, num_classes\n",
    "from src.utils.logs import writer\n",
    "from src.utils.train import train\n",
    "from src.utils.test import test\n",
    "import wandb\n",
    "import json"
   ]
  },
  {
   "cell_type": "code",
   "execution_count": null,
   "metadata": {},
   "outputs": [],
   "source": [
    "wandb.login()"
   ]
  },
  {
   "cell_type": "code",
   "execution_count": null,
   "metadata": {},
   "outputs": [],
   "source": [
    "sweep_config = {\n",
    "    'method': 'bayes',\n",
    "    \"metric\": {\n",
    "        \"name\": 'accuracy',\n",
    "        \"goal\": 'maximize'\n",
    "    },\n",
    "    \"parameters\": {\n",
    "        'learning_rate': {\n",
    "            # a flat distribution between 0 and 0.1\n",
    "            'distribution': 'uniform',\n",
    "            'min': 0,\n",
    "            'max': 0.001\n",
    "        },\n",
    "        'batch_size': {\n",
    "            # integers between 32 and 256\n",
    "            # with evenly-distributed logarithms\n",
    "            'distribution': 'q_log_uniform_values',\n",
    "            'q': 8,\n",
    "            'min': 32,\n",
    "            'max': 256,\n",
    "        },\n",
    "        'epochs': {\n",
    "            'values': [15, 20, 30]\n",
    "        },\n",
    "        'optimizer': {\n",
    "            'values': ['adam', 'sgd']\n",
    "        },\n",
    "        'fc_layer_size': {\n",
    "            'values': [128, 256, 512]\n",
    "        },\n",
    "    }\n",
    "}\n",
    "\n",
    "device = torch.device(\"cuda\" if torch.cuda.is_available() else \"cpu\")"
   ]
  },
  {
   "cell_type": "code",
   "execution_count": 13,
   "metadata": {},
   "outputs": [],
   "source": [
    "def build_dataset(batch_size):\n",
    "\n",
    "    return get_train_dataset(batch_size)\n",
    "\n",
    "\n",
    "def build_network(fc_layer_size):\n",
    "    network = ShapeClassifier(num_classes=3,hidden_size=fc_layer_size)\n",
    "\n",
    "    return network.to(device)\n",
    "\n",
    "\n",
    "def build_optimizer(network, optimizer, learning_rate):\n",
    "    if optimizer == \"sgd\":\n",
    "        optimizer = optim.SGD(network.parameters(),\n",
    "                              lr=learning_rate, momentum=0.9)\n",
    "    elif optimizer == \"adam\":\n",
    "        optimizer = optim.Adam(network.parameters(),\n",
    "                               lr=learning_rate)\n",
    "    return optimizer\n",
    "\n",
    "\n",
    "def train_epoch(network, loader, optimizer):\n",
    "    cumu_loss = 0\n",
    "    for _, (data, target) in enumerate(loader):\n",
    "        data, target = data.to(device), target.to(device)\n",
    "        optimizer.zero_grad()\n",
    "\n",
    "        # ➡ Forward pass\n",
    "        loss = F.cross_entropy(network(data), target)\n",
    "        cumu_loss += loss.item()\n",
    "\n",
    "        # ⬅ Backward pass + weight update\n",
    "        loss.backward()\n",
    "        optimizer.step()\n",
    "\n",
    "        wandb.log({\"batch loss\": loss.item()})\n",
    "\n",
    "    return cumu_loss / len(loader)\n",
    "\n",
    "def validate(network, loader):\n",
    "    network.eval()\n",
    "    correct = 0\n",
    "    with torch.no_grad():\n",
    "        for _, (data, target) in enumerate(loader):\n",
    "            data, target = data.to(device), target.to(device)\n",
    "            output = network(data)\n",
    "            pred = output.argmax(dim=1, keepdim=True)\n",
    "            correct += pred.eq(target.view_as(pred)).sum().item()\n",
    "\n",
    "    return correct / len(loader.dataset)\n",
    "    \n",
    "def train(config=None):\n",
    "    # Initialize a new wandb run  \n",
    "\n",
    "    with wandb.init():\n",
    "        config = wandb.config\n",
    "        # If called by wandb.agent, as below,\n",
    "        # this config will be set by Sweep Controller\n",
    "        print(\"config\" , config)\n",
    "   \n",
    "        loader = build_dataset(config.batch_size)\n",
    "        network = build_network(config.fc_layer_size)\n",
    "        optimizer = build_optimizer(\n",
    "            network, config.optimizer, config.learning_rate)\n",
    "\n",
    "\n",
    "        for epoch in range(config.epochs):\n",
    "            avg_loss = train_epoch(network, loader, optimizer)\n",
    "            acc = validate(network, loader)\n",
    "            print(f\"Epoch {epoch} avg loss: {avg_loss} accuracy: {acc}\")\n",
    "            wandb.log({\"loss\": avg_loss, \"epoch\": epoch, \"accuracy\": acc})"
   ]
  },
  {
   "cell_type": "code",
   "execution_count": 14,
   "metadata": {},
   "outputs": [
    {
     "name": "stdout",
     "output_type": "stream",
     "text": [
      "Create sweep with ID: 04b419v1\n",
      "Sweep URL: http://localhost:8080/nguyen/pytorch-sweeps-demo/sweeps/04b419v1\n"
     ]
    }
   ],
   "source": [
    "sweep_id = wandb.sweep(sweep_config, project=\"pytorch-sweeps-demo\")"
   ]
  },
  {
   "cell_type": "code",
   "execution_count": 16,
   "metadata": {},
   "outputs": [
    {
     "name": "stderr",
     "output_type": "stream",
     "text": [
      "\u001b[34m\u001b[1mwandb\u001b[0m: Agent Starting Run: dmjiyx7j with config:\n",
      "\u001b[34m\u001b[1mwandb\u001b[0m: \tbatch_size: 48\n",
      "\u001b[34m\u001b[1mwandb\u001b[0m: \tepochs: 20\n",
      "\u001b[34m\u001b[1mwandb\u001b[0m: \tfc_layer_size: 256\n",
      "\u001b[34m\u001b[1mwandb\u001b[0m: \tlearning_rate: 9.930082550267504e-06\n",
      "\u001b[34m\u001b[1mwandb\u001b[0m: \toptimizer: adam\n",
      "Failed to detect the name of this notebook, you can set it manually with the WANDB_NOTEBOOK_NAME environment variable to enable code saving.\n"
     ]
    },
    {
     "data": {
      "text/html": [
       "Tracking run with wandb version 0.16.0"
      ],
      "text/plain": [
       "<IPython.core.display.HTML object>"
      ]
     },
     "metadata": {},
     "output_type": "display_data"
    },
    {
     "data": {
      "text/html": [
       "Run data is saved locally in <code>d:\\pnstack\\template-pytorch-model\\wandb\\run-20231119_123119-dmjiyx7j</code>"
      ],
      "text/plain": [
       "<IPython.core.display.HTML object>"
      ]
     },
     "metadata": {},
     "output_type": "display_data"
    },
    {
     "data": {
      "text/html": [
       "Syncing run <strong><a href='https://wandb.ai/nguyen/pytorch-sweeps-demo/runs/dmjiyx7j' target=\"_blank\">desert-sweep-6</a></strong> to <a href='https://wandb.ai/nguyen/pytorch-sweeps-demo' target=\"_blank\">Weights & Biases</a> (<a href='https://wandb.me/run' target=\"_blank\">docs</a>)<br/>Sweep page: <a href='https://wandb.ai/nguyen/pytorch-sweeps-demo/sweeps/04b419v1' target=\"_blank\">https://wandb.ai/nguyen/pytorch-sweeps-demo/sweeps/04b419v1</a>"
      ],
      "text/plain": [
       "<IPython.core.display.HTML object>"
      ]
     },
     "metadata": {},
     "output_type": "display_data"
    },
    {
     "data": {
      "text/html": [
       " View project at <a href='https://wandb.ai/nguyen/pytorch-sweeps-demo' target=\"_blank\">https://wandb.ai/nguyen/pytorch-sweeps-demo</a>"
      ],
      "text/plain": [
       "<IPython.core.display.HTML object>"
      ]
     },
     "metadata": {},
     "output_type": "display_data"
    },
    {
     "data": {
      "text/html": [
       " View sweep at <a href='https://wandb.ai/nguyen/pytorch-sweeps-demo/sweeps/04b419v1' target=\"_blank\">https://wandb.ai/nguyen/pytorch-sweeps-demo/sweeps/04b419v1</a>"
      ],
      "text/plain": [
       "<IPython.core.display.HTML object>"
      ]
     },
     "metadata": {},
     "output_type": "display_data"
    },
    {
     "data": {
      "text/html": [
       " View run at <a href='https://wandb.ai/nguyen/pytorch-sweeps-demo/runs/dmjiyx7j' target=\"_blank\">https://wandb.ai/nguyen/pytorch-sweeps-demo/runs/dmjiyx7j</a>"
      ],
      "text/plain": [
       "<IPython.core.display.HTML object>"
      ]
     },
     "metadata": {},
     "output_type": "display_data"
    },
    {
     "name": "stdout",
     "output_type": "stream",
     "text": [
      "config {'batch_size': 48, 'epochs': 20, 'fc_layer_size': 256, 'learning_rate': 9.930082550267504e-06, 'optimizer': 'adam'}\n",
      "Epoch 0 avg loss: 1.1227594017982483 accuracy: 0.51\n",
      "Epoch 1 avg loss: 1.0263650843075343 accuracy: 0.5933333333333334\n",
      "Epoch 2 avg loss: 0.9231991171836853 accuracy: 0.49\n",
      "Epoch 3 avg loss: 0.8516879166875567 accuracy: 0.62\n",
      "Epoch 4 avg loss: 0.8165683661188398 accuracy: 0.81\n",
      "Epoch 5 avg loss: 0.7675495403153556 accuracy: 0.6733333333333333\n",
      "Epoch 6 avg loss: 0.7831985950469971 accuracy: 0.7166666666666667\n",
      "Epoch 7 avg loss: 0.6932210155895778 accuracy: 0.8733333333333333\n",
      "Epoch 8 avg loss: 0.6585122261728559 accuracy: 0.7333333333333333\n",
      "Epoch 9 avg loss: 0.6423001033919198 accuracy: 0.8766666666666667\n",
      "Epoch 10 avg loss: 0.6038253137043544 accuracy: 0.7933333333333333\n",
      "Epoch 11 avg loss: 0.5986335618155343 accuracy: 0.78\n",
      "Epoch 12 avg loss: 0.5852176036153521 accuracy: 0.7766666666666666\n",
      "Epoch 13 avg loss: 0.5776768922805786 accuracy: 0.7733333333333333\n",
      "Epoch 14 avg loss: 0.572343749659402 accuracy: 0.79\n",
      "Epoch 15 avg loss: 0.5162468552589417 accuracy: 0.9166666666666666\n",
      "Epoch 16 avg loss: 0.48254855615752085 accuracy: 0.9066666666666666\n",
      "Epoch 17 avg loss: 0.45612808636256624 accuracy: 0.9\n",
      "Epoch 18 avg loss: 0.4477146693638393 accuracy: 0.9066666666666666\n",
      "Epoch 19 avg loss: 0.42570933273860384 accuracy: 0.9233333333333333\n"
     ]
    },
    {
     "data": {
      "text/html": [
       "<style>\n",
       "    table.wandb td:nth-child(1) { padding: 0 10px; text-align: left ; width: auto;} td:nth-child(2) {text-align: left ; width: 100%}\n",
       "    .wandb-row { display: flex; flex-direction: row; flex-wrap: wrap; justify-content: flex-start; width: 100% }\n",
       "    .wandb-col { display: flex; flex-direction: column; flex-basis: 100%; flex: 1; padding: 10px; }\n",
       "    </style>\n",
       "<div class=\"wandb-row\"><div class=\"wandb-col\"><h3>Run history:</h3><br/><table class=\"wandb\"><tr><td>accuracy</td><td>▁▃▁▃▆▄▅▇▅▇▆▆▆▆▆█████</td></tr><tr><td>batch loss</td><td>█▇▆▅▄▅▅▅▄▄▄▄▄▄▃▃▃▃▃▃▂▂▃▂▃▂▄▂▃▃▂▃▂▂▂▂▁▁▂▁</td></tr><tr><td>epoch</td><td>▁▁▂▂▂▃▃▄▄▄▅▅▅▆▆▇▇▇██</td></tr><tr><td>loss</td><td>█▇▆▅▅▄▅▄▃▃▃▃▃▃▂▂▂▁▁▁</td></tr></table><br/></div><div class=\"wandb-col\"><h3>Run summary:</h3><br/><table class=\"wandb\"><tr><td>accuracy</td><td>0.92333</td></tr><tr><td>batch loss</td><td>0.38374</td></tr><tr><td>epoch</td><td>19</td></tr><tr><td>loss</td><td>0.42571</td></tr></table><br/></div></div>"
      ],
      "text/plain": [
       "<IPython.core.display.HTML object>"
      ]
     },
     "metadata": {},
     "output_type": "display_data"
    },
    {
     "data": {
      "text/html": [
       " View run <strong style=\"color:#cdcd00\">desert-sweep-6</strong> at: <a href='https://wandb.ai/nguyen/pytorch-sweeps-demo/runs/dmjiyx7j' target=\"_blank\">https://wandb.ai/nguyen/pytorch-sweeps-demo/runs/dmjiyx7j</a><br/>Synced 6 W&B file(s), 0 media file(s), 0 artifact file(s) and 0 other file(s)"
      ],
      "text/plain": [
       "<IPython.core.display.HTML object>"
      ]
     },
     "metadata": {},
     "output_type": "display_data"
    },
    {
     "data": {
      "text/html": [
       "Find logs at: <code>.\\wandb\\run-20231119_123119-dmjiyx7j\\logs</code>"
      ],
      "text/plain": [
       "<IPython.core.display.HTML object>"
      ]
     },
     "metadata": {},
     "output_type": "display_data"
    },
    {
     "name": "stderr",
     "output_type": "stream",
     "text": [
      "\u001b[34m\u001b[1mwandb\u001b[0m: Agent Starting Run: c61bls20 with config:\n",
      "\u001b[34m\u001b[1mwandb\u001b[0m: \tbatch_size: 120\n",
      "\u001b[34m\u001b[1mwandb\u001b[0m: \tepochs: 30\n",
      "\u001b[34m\u001b[1mwandb\u001b[0m: \tfc_layer_size: 512\n",
      "\u001b[34m\u001b[1mwandb\u001b[0m: \tlearning_rate: 0.00040770515026138955\n",
      "\u001b[34m\u001b[1mwandb\u001b[0m: \toptimizer: adam\n",
      "Failed to detect the name of this notebook, you can set it manually with the WANDB_NOTEBOOK_NAME environment variable to enable code saving.\n"
     ]
    },
    {
     "data": {
      "text/html": [
       "Tracking run with wandb version 0.16.0"
      ],
      "text/plain": [
       "<IPython.core.display.HTML object>"
      ]
     },
     "metadata": {},
     "output_type": "display_data"
    },
    {
     "data": {
      "text/html": [
       "Run data is saved locally in <code>d:\\pnstack\\template-pytorch-model\\wandb\\run-20231119_123210-c61bls20</code>"
      ],
      "text/plain": [
       "<IPython.core.display.HTML object>"
      ]
     },
     "metadata": {},
     "output_type": "display_data"
    },
    {
     "data": {
      "text/html": [
       "Syncing run <strong><a href='https://wandb.ai/nguyen/pytorch-sweeps-demo/runs/c61bls20' target=\"_blank\">hopeful-sweep-7</a></strong> to <a href='https://wandb.ai/nguyen/pytorch-sweeps-demo' target=\"_blank\">Weights & Biases</a> (<a href='https://wandb.me/run' target=\"_blank\">docs</a>)<br/>Sweep page: <a href='https://wandb.ai/nguyen/pytorch-sweeps-demo/sweeps/04b419v1' target=\"_blank\">https://wandb.ai/nguyen/pytorch-sweeps-demo/sweeps/04b419v1</a>"
      ],
      "text/plain": [
       "<IPython.core.display.HTML object>"
      ]
     },
     "metadata": {},
     "output_type": "display_data"
    },
    {
     "data": {
      "text/html": [
       " View project at <a href='https://wandb.ai/nguyen/pytorch-sweeps-demo' target=\"_blank\">https://wandb.ai/nguyen/pytorch-sweeps-demo</a>"
      ],
      "text/plain": [
       "<IPython.core.display.HTML object>"
      ]
     },
     "metadata": {},
     "output_type": "display_data"
    },
    {
     "data": {
      "text/html": [
       " View sweep at <a href='https://wandb.ai/nguyen/pytorch-sweeps-demo/sweeps/04b419v1' target=\"_blank\">https://wandb.ai/nguyen/pytorch-sweeps-demo/sweeps/04b419v1</a>"
      ],
      "text/plain": [
       "<IPython.core.display.HTML object>"
      ]
     },
     "metadata": {},
     "output_type": "display_data"
    },
    {
     "data": {
      "text/html": [
       " View run at <a href='https://wandb.ai/nguyen/pytorch-sweeps-demo/runs/c61bls20' target=\"_blank\">https://wandb.ai/nguyen/pytorch-sweeps-demo/runs/c61bls20</a>"
      ],
      "text/plain": [
       "<IPython.core.display.HTML object>"
      ]
     },
     "metadata": {},
     "output_type": "display_data"
    },
    {
     "name": "stdout",
     "output_type": "stream",
     "text": [
      "config {'batch_size': 120, 'epochs': 30, 'fc_layer_size': 512, 'learning_rate': 0.00040770515026138955, 'optimizer': 'adam'}\n",
      "Epoch 0 avg loss: 12.669246673583984 accuracy: 0.3333333333333333\n",
      "Epoch 1 avg loss: 9.699127753575643 accuracy: 0.3933333333333333\n",
      "Epoch 2 avg loss: 5.997192939122518 accuracy: 0.5666666666666667\n",
      "Epoch 3 avg loss: 5.1969099044799805 accuracy: 0.5933333333333334\n",
      "Epoch 4 avg loss: 1.2817224860191345 accuracy: 0.5533333333333333\n",
      "Epoch 5 avg loss: 2.5963169733683267 accuracy: 0.57\n",
      "Epoch 6 avg loss: 0.8057341774304708 accuracy: 0.69\n",
      "Epoch 7 avg loss: 1.1785928010940552 accuracy: 0.6966666666666667\n",
      "Epoch 8 avg loss: 0.7000896036624908 accuracy: 0.9033333333333333\n",
      "Epoch 9 avg loss: 0.3257632553577423 accuracy: 0.8033333333333333\n",
      "Epoch 10 avg loss: 0.42895398537317914 accuracy: 0.9366666666666666\n",
      "Epoch 11 avg loss: 0.19974619646867117 accuracy: 0.9566666666666667\n",
      "Epoch 12 avg loss: 0.18941768010457358 accuracy: 0.9533333333333334\n",
      "Epoch 13 avg loss: 0.13353885461886725 accuracy: 0.9766666666666667\n",
      "Epoch 14 avg loss: 0.12185853471358617 accuracy: 0.9733333333333334\n",
      "Epoch 15 avg loss: 0.10533156494299571 accuracy: 0.9933333333333333\n",
      "Epoch 16 avg loss: 0.07629338279366493 accuracy: 0.9833333333333333\n",
      "Epoch 17 avg loss: 0.06959461669127147 accuracy: 0.9933333333333333\n",
      "Epoch 18 avg loss: 0.05993655820687612 accuracy: 1.0\n",
      "Epoch 19 avg loss: 0.048177012552817665 accuracy: 1.0\n",
      "Epoch 20 avg loss: 0.043316529442866646 accuracy: 1.0\n",
      "Epoch 21 avg loss: 0.033304951464136444 accuracy: 1.0\n",
      "Epoch 22 avg loss: 0.032316296050945915 accuracy: 1.0\n",
      "Epoch 23 avg loss: 0.026140497997403145 accuracy: 1.0\n",
      "Epoch 24 avg loss: 0.025618030379215877 accuracy: 1.0\n",
      "Epoch 25 avg loss: 0.023070624719063442 accuracy: 1.0\n",
      "Epoch 26 avg loss: 0.020422006646792095 accuracy: 1.0\n",
      "Epoch 27 avg loss: 0.01966176989177863 accuracy: 1.0\n",
      "Epoch 28 avg loss: 0.017348712620635826 accuracy: 1.0\n",
      "Epoch 29 avg loss: 0.016349364692966144 accuracy: 1.0\n"
     ]
    },
    {
     "data": {
      "text/html": [
       "<style>\n",
       "    table.wandb td:nth-child(1) { padding: 0 10px; text-align: left ; width: auto;} td:nth-child(2) {text-align: left ; width: 100%}\n",
       "    .wandb-row { display: flex; flex-direction: row; flex-wrap: wrap; justify-content: flex-start; width: 100% }\n",
       "    .wandb-col { display: flex; flex-direction: column; flex-basis: 100%; flex: 1; padding: 10px; }\n",
       "    </style>\n",
       "<div class=\"wandb-row\"><div class=\"wandb-col\"><h3>Run history:</h3><br/><table class=\"wandb\"><tr><td>accuracy</td><td>▁▂▃▄▃▃▅▅▇▆▇███████████████████</td></tr><tr><td>batch loss</td><td>▂▃█▃▄▄▂▃▂▁▂▁▁▁▁▁▁▁▁▁▁▁▁▁▁▁▁▁▁▁▁▁▁▁▁▁▁▁▁▁</td></tr><tr><td>epoch</td><td>▁▁▁▂▂▂▂▃▃▃▃▄▄▄▄▅▅▅▅▆▆▆▆▇▇▇▇███</td></tr><tr><td>loss</td><td>█▆▄▄▂▂▁▂▁▁▁▁▁▁▁▁▁▁▁▁▁▁▁▁▁▁▁▁▁▁</td></tr></table><br/></div><div class=\"wandb-col\"><h3>Run summary:</h3><br/><table class=\"wandb\"><tr><td>accuracy</td><td>1.0</td></tr><tr><td>batch loss</td><td>0.01435</td></tr><tr><td>epoch</td><td>29</td></tr><tr><td>loss</td><td>0.01635</td></tr></table><br/></div></div>"
      ],
      "text/plain": [
       "<IPython.core.display.HTML object>"
      ]
     },
     "metadata": {},
     "output_type": "display_data"
    },
    {
     "data": {
      "text/html": [
       " View run <strong style=\"color:#cdcd00\">hopeful-sweep-7</strong> at: <a href='https://wandb.ai/nguyen/pytorch-sweeps-demo/runs/c61bls20' target=\"_blank\">https://wandb.ai/nguyen/pytorch-sweeps-demo/runs/c61bls20</a><br/>Synced 6 W&B file(s), 0 media file(s), 0 artifact file(s) and 0 other file(s)"
      ],
      "text/plain": [
       "<IPython.core.display.HTML object>"
      ]
     },
     "metadata": {},
     "output_type": "display_data"
    },
    {
     "data": {
      "text/html": [
       "Find logs at: <code>.\\wandb\\run-20231119_123210-c61bls20\\logs</code>"
      ],
      "text/plain": [
       "<IPython.core.display.HTML object>"
      ]
     },
     "metadata": {},
     "output_type": "display_data"
    },
    {
     "name": "stderr",
     "output_type": "stream",
     "text": [
      "\u001b[34m\u001b[1mwandb\u001b[0m: Agent Starting Run: suqa7b6e with config:\n",
      "\u001b[34m\u001b[1mwandb\u001b[0m: \tbatch_size: 72\n",
      "\u001b[34m\u001b[1mwandb\u001b[0m: \tepochs: 30\n",
      "\u001b[34m\u001b[1mwandb\u001b[0m: \tfc_layer_size: 128\n",
      "\u001b[34m\u001b[1mwandb\u001b[0m: \tlearning_rate: 0.00014834775601176841\n",
      "\u001b[34m\u001b[1mwandb\u001b[0m: \toptimizer: adam\n",
      "Failed to detect the name of this notebook, you can set it manually with the WANDB_NOTEBOOK_NAME environment variable to enable code saving.\n"
     ]
    },
    {
     "data": {
      "text/html": [
       "Tracking run with wandb version 0.16.0"
      ],
      "text/plain": [
       "<IPython.core.display.HTML object>"
      ]
     },
     "metadata": {},
     "output_type": "display_data"
    },
    {
     "data": {
      "text/html": [
       "Run data is saved locally in <code>d:\\pnstack\\template-pytorch-model\\wandb\\run-20231119_123316-suqa7b6e</code>"
      ],
      "text/plain": [
       "<IPython.core.display.HTML object>"
      ]
     },
     "metadata": {},
     "output_type": "display_data"
    },
    {
     "data": {
      "text/html": [
       "Syncing run <strong><a href='https://wandb.ai/nguyen/pytorch-sweeps-demo/runs/suqa7b6e' target=\"_blank\">autumn-sweep-8</a></strong> to <a href='https://wandb.ai/nguyen/pytorch-sweeps-demo' target=\"_blank\">Weights & Biases</a> (<a href='https://wandb.me/run' target=\"_blank\">docs</a>)<br/>Sweep page: <a href='https://wandb.ai/nguyen/pytorch-sweeps-demo/sweeps/04b419v1' target=\"_blank\">https://wandb.ai/nguyen/pytorch-sweeps-demo/sweeps/04b419v1</a>"
      ],
      "text/plain": [
       "<IPython.core.display.HTML object>"
      ]
     },
     "metadata": {},
     "output_type": "display_data"
    },
    {
     "data": {
      "text/html": [
       " View project at <a href='https://wandb.ai/nguyen/pytorch-sweeps-demo' target=\"_blank\">https://wandb.ai/nguyen/pytorch-sweeps-demo</a>"
      ],
      "text/plain": [
       "<IPython.core.display.HTML object>"
      ]
     },
     "metadata": {},
     "output_type": "display_data"
    },
    {
     "data": {
      "text/html": [
       " View sweep at <a href='https://wandb.ai/nguyen/pytorch-sweeps-demo/sweeps/04b419v1' target=\"_blank\">https://wandb.ai/nguyen/pytorch-sweeps-demo/sweeps/04b419v1</a>"
      ],
      "text/plain": [
       "<IPython.core.display.HTML object>"
      ]
     },
     "metadata": {},
     "output_type": "display_data"
    },
    {
     "data": {
      "text/html": [
       " View run at <a href='https://wandb.ai/nguyen/pytorch-sweeps-demo/runs/suqa7b6e' target=\"_blank\">https://wandb.ai/nguyen/pytorch-sweeps-demo/runs/suqa7b6e</a>"
      ],
      "text/plain": [
       "<IPython.core.display.HTML object>"
      ]
     },
     "metadata": {},
     "output_type": "display_data"
    },
    {
     "name": "stdout",
     "output_type": "stream",
     "text": [
      "config {'batch_size': 72, 'epochs': 30, 'fc_layer_size': 128, 'learning_rate': 0.00014834775601176841, 'optimizer': 'adam'}\n",
      "Epoch 0 avg loss: 3.2243733406066895 accuracy: 0.3333333333333333\n",
      "Epoch 1 avg loss: 1.8535244941711426 accuracy: 0.3333333333333333\n",
      "Epoch 2 avg loss: 1.3806214809417725 accuracy: 0.43333333333333335\n",
      "Epoch 3 avg loss: 1.1464012622833253 accuracy: 0.51\n",
      "Epoch 4 avg loss: 0.8064233601093292 accuracy: 0.5933333333333334\n",
      "Epoch 5 avg loss: 0.6862831830978393 accuracy: 0.6933333333333334\n",
      "Epoch 6 avg loss: 0.6002423763275146 accuracy: 0.7766666666666666\n",
      "Epoch 7 avg loss: 0.49208289980888364 accuracy: 0.7766666666666666\n",
      "Epoch 8 avg loss: 0.4717391610145569 accuracy: 0.8733333333333333\n",
      "Epoch 9 avg loss: 0.44093636274337766 accuracy: 0.8333333333333334\n",
      "Epoch 10 avg loss: 0.431243771314621 accuracy: 0.8\n",
      "Epoch 11 avg loss: 0.42343916893005373 accuracy: 0.8333333333333334\n",
      "Epoch 12 avg loss: 0.37901818156242373 accuracy: 0.7733333333333333\n",
      "Epoch 13 avg loss: 0.44130058884620665 accuracy: 0.8933333333333333\n",
      "Epoch 14 avg loss: 0.3290287971496582 accuracy: 0.95\n",
      "Epoch 15 avg loss: 0.3358880043029785 accuracy: 0.9433333333333334\n",
      "Epoch 16 avg loss: 0.3037585198879242 accuracy: 0.91\n",
      "Epoch 17 avg loss: 0.24435886293649672 accuracy: 0.8966666666666666\n",
      "Epoch 18 avg loss: 0.24720126688480376 accuracy: 0.9166666666666666\n",
      "Epoch 19 avg loss: 0.24351224899291993 accuracy: 0.9133333333333333\n",
      "Epoch 20 avg loss: 0.21602382361888886 accuracy: 0.9266666666666666\n",
      "Epoch 21 avg loss: 0.209903547167778 accuracy: 0.9633333333333334\n",
      "Epoch 22 avg loss: 0.19107576906681062 accuracy: 0.9866666666666667\n",
      "Epoch 23 avg loss: 0.1764080971479416 accuracy: 0.9833333333333333\n",
      "Epoch 24 avg loss: 0.15718264430761336 accuracy: 0.9666666666666667\n",
      "Epoch 25 avg loss: 0.1513497233390808 accuracy: 0.9966666666666667\n",
      "Epoch 26 avg loss: 0.1373470574617386 accuracy: 1.0\n",
      "Epoch 27 avg loss: 0.11222847327589988 accuracy: 0.9933333333333333\n",
      "Epoch 28 avg loss: 0.11980711072683334 accuracy: 1.0\n",
      "Epoch 29 avg loss: 0.10200107395648957 accuracy: 1.0\n"
     ]
    },
    {
     "data": {
      "text/html": [
       "<style>\n",
       "    table.wandb td:nth-child(1) { padding: 0 10px; text-align: left ; width: auto;} td:nth-child(2) {text-align: left ; width: 100%}\n",
       "    .wandb-row { display: flex; flex-direction: row; flex-wrap: wrap; justify-content: flex-start; width: 100% }\n",
       "    .wandb-col { display: flex; flex-direction: column; flex-basis: 100%; flex: 1; padding: 10px; }\n",
       "    </style>\n",
       "<div class=\"wandb-row\"><div class=\"wandb-col\"><h3>Run history:</h3><br/><table class=\"wandb\"><tr><td>accuracy</td><td>▁▁▂▃▄▅▆▆▇▆▆▆▆▇▇▇▇▇▇▇▇█████████</td></tr><tr><td>batch loss</td><td>█▄▃▃▂▃▂▂▂▂▂▂▂▁▂▁▂▂▂▁▁▁▁▁▁▁▁▁▁▁▁▁▁▁▁▁▁▁▁▁</td></tr><tr><td>epoch</td><td>▁▁▁▂▂▂▂▃▃▃▃▄▄▄▄▅▅▅▅▆▆▆▆▇▇▇▇███</td></tr><tr><td>loss</td><td>█▅▄▃▃▂▂▂▂▂▂▂▂▂▂▂▁▁▁▁▁▁▁▁▁▁▁▁▁▁</td></tr></table><br/></div><div class=\"wandb-col\"><h3>Run summary:</h3><br/><table class=\"wandb\"><tr><td>accuracy</td><td>1.0</td></tr><tr><td>batch loss</td><td>0.08601</td></tr><tr><td>epoch</td><td>29</td></tr><tr><td>loss</td><td>0.102</td></tr></table><br/></div></div>"
      ],
      "text/plain": [
       "<IPython.core.display.HTML object>"
      ]
     },
     "metadata": {},
     "output_type": "display_data"
    },
    {
     "data": {
      "text/html": [
       " View run <strong style=\"color:#cdcd00\">autumn-sweep-8</strong> at: <a href='https://wandb.ai/nguyen/pytorch-sweeps-demo/runs/suqa7b6e' target=\"_blank\">https://wandb.ai/nguyen/pytorch-sweeps-demo/runs/suqa7b6e</a><br/>Synced 6 W&B file(s), 0 media file(s), 0 artifact file(s) and 0 other file(s)"
      ],
      "text/plain": [
       "<IPython.core.display.HTML object>"
      ]
     },
     "metadata": {},
     "output_type": "display_data"
    },
    {
     "data": {
      "text/html": [
       "Find logs at: <code>.\\wandb\\run-20231119_123316-suqa7b6e\\logs</code>"
      ],
      "text/plain": [
       "<IPython.core.display.HTML object>"
      ]
     },
     "metadata": {},
     "output_type": "display_data"
    },
    {
     "name": "stderr",
     "output_type": "stream",
     "text": [
      "\u001b[34m\u001b[1mwandb\u001b[0m: Agent Starting Run: 1h4mzfve with config:\n",
      "\u001b[34m\u001b[1mwandb\u001b[0m: \tbatch_size: 72\n",
      "\u001b[34m\u001b[1mwandb\u001b[0m: \tepochs: 30\n",
      "\u001b[34m\u001b[1mwandb\u001b[0m: \tfc_layer_size: 128\n",
      "\u001b[34m\u001b[1mwandb\u001b[0m: \tlearning_rate: 0.00010592154986969104\n",
      "\u001b[34m\u001b[1mwandb\u001b[0m: \toptimizer: adam\n",
      "Failed to detect the name of this notebook, you can set it manually with the WANDB_NOTEBOOK_NAME environment variable to enable code saving.\n"
     ]
    },
    {
     "data": {
      "text/html": [
       "Tracking run with wandb version 0.16.0"
      ],
      "text/plain": [
       "<IPython.core.display.HTML object>"
      ]
     },
     "metadata": {},
     "output_type": "display_data"
    },
    {
     "data": {
      "text/html": [
       "Run data is saved locally in <code>d:\\pnstack\\template-pytorch-model\\wandb\\run-20231119_123418-1h4mzfve</code>"
      ],
      "text/plain": [
       "<IPython.core.display.HTML object>"
      ]
     },
     "metadata": {},
     "output_type": "display_data"
    },
    {
     "data": {
      "text/html": [
       "Syncing run <strong><a href='https://wandb.ai/nguyen/pytorch-sweeps-demo/runs/1h4mzfve' target=\"_blank\">hearty-sweep-9</a></strong> to <a href='https://wandb.ai/nguyen/pytorch-sweeps-demo' target=\"_blank\">Weights & Biases</a> (<a href='https://wandb.me/run' target=\"_blank\">docs</a>)<br/>Sweep page: <a href='https://wandb.ai/nguyen/pytorch-sweeps-demo/sweeps/04b419v1' target=\"_blank\">https://wandb.ai/nguyen/pytorch-sweeps-demo/sweeps/04b419v1</a>"
      ],
      "text/plain": [
       "<IPython.core.display.HTML object>"
      ]
     },
     "metadata": {},
     "output_type": "display_data"
    },
    {
     "data": {
      "text/html": [
       " View project at <a href='https://wandb.ai/nguyen/pytorch-sweeps-demo' target=\"_blank\">https://wandb.ai/nguyen/pytorch-sweeps-demo</a>"
      ],
      "text/plain": [
       "<IPython.core.display.HTML object>"
      ]
     },
     "metadata": {},
     "output_type": "display_data"
    },
    {
     "data": {
      "text/html": [
       " View sweep at <a href='https://wandb.ai/nguyen/pytorch-sweeps-demo/sweeps/04b419v1' target=\"_blank\">https://wandb.ai/nguyen/pytorch-sweeps-demo/sweeps/04b419v1</a>"
      ],
      "text/plain": [
       "<IPython.core.display.HTML object>"
      ]
     },
     "metadata": {},
     "output_type": "display_data"
    },
    {
     "data": {
      "text/html": [
       " View run at <a href='https://wandb.ai/nguyen/pytorch-sweeps-demo/runs/1h4mzfve' target=\"_blank\">https://wandb.ai/nguyen/pytorch-sweeps-demo/runs/1h4mzfve</a>"
      ],
      "text/plain": [
       "<IPython.core.display.HTML object>"
      ]
     },
     "metadata": {},
     "output_type": "display_data"
    },
    {
     "name": "stdout",
     "output_type": "stream",
     "text": [
      "config {'batch_size': 72, 'epochs': 30, 'fc_layer_size': 128, 'learning_rate': 0.00010592154986969104, 'optimizer': 'adam'}\n",
      "Epoch 0 avg loss: 2.3192498445510865 accuracy: 0.3333333333333333\n",
      "Epoch 1 avg loss: 1.3334437608718872 accuracy: 0.39666666666666667\n",
      "Epoch 2 avg loss: 0.9940925598144531 accuracy: 0.6266666666666667\n",
      "Epoch 3 avg loss: 0.9631458878517151 accuracy: 0.4633333333333333\n",
      "Epoch 4 avg loss: 0.9168477416038513 accuracy: 0.6533333333333333\n",
      "Epoch 5 avg loss: 0.8606205105781555 accuracy: 0.6433333333333333\n",
      "Epoch 6 avg loss: 0.8311546802520752 accuracy: 0.7\n",
      "Epoch 7 avg loss: 0.7852411031723022 accuracy: 0.7633333333333333\n",
      "Epoch 8 avg loss: 0.7528125762939453 accuracy: 0.7666666666666667\n",
      "Epoch 9 avg loss: 0.7372702360153198 accuracy: 0.7166666666666667\n",
      "Epoch 10 avg loss: 0.7225580334663391 accuracy: 0.7866666666666666\n",
      "Epoch 11 avg loss: 0.6844698429107666 accuracy: 0.81\n",
      "Epoch 12 avg loss: 0.656183123588562 accuracy: 0.8033333333333333\n",
      "Epoch 13 avg loss: 0.6540589094161987 accuracy: 0.7666666666666667\n",
      "Epoch 14 avg loss: 0.6706524729728699 accuracy: 0.8433333333333334\n",
      "Epoch 15 avg loss: 0.6072027683258057 accuracy: 0.79\n",
      "Epoch 16 avg loss: 0.5744478046894074 accuracy: 0.8833333333333333\n",
      "Epoch 17 avg loss: 0.5660895109176636 accuracy: 0.8733333333333333\n",
      "Epoch 18 avg loss: 0.5563419878482818 accuracy: 0.8133333333333334\n",
      "Epoch 19 avg loss: 0.5246312975883484 accuracy: 0.9066666666666666\n",
      "Epoch 20 avg loss: 0.480787456035614 accuracy: 0.91\n",
      "Epoch 21 avg loss: 0.4634073615074158 accuracy: 0.92\n",
      "Epoch 22 avg loss: 0.44787479043006895 accuracy: 0.87\n",
      "Epoch 23 avg loss: 0.4245096445083618 accuracy: 0.94\n",
      "Epoch 24 avg loss: 0.41274533867836 accuracy: 0.9433333333333334\n",
      "Epoch 25 avg loss: 0.40062321424484254 accuracy: 0.9466666666666667\n",
      "Epoch 26 avg loss: 0.379450261592865 accuracy: 0.95\n",
      "Epoch 27 avg loss: 0.34824095368385316 accuracy: 0.93\n",
      "Epoch 28 avg loss: 0.3403467178344727 accuracy: 0.95\n",
      "Epoch 29 avg loss: 0.34246460199356077 accuracy: 0.97\n"
     ]
    },
    {
     "data": {
      "text/html": [
       "<style>\n",
       "    table.wandb td:nth-child(1) { padding: 0 10px; text-align: left ; width: auto;} td:nth-child(2) {text-align: left ; width: 100%}\n",
       "    .wandb-row { display: flex; flex-direction: row; flex-wrap: wrap; justify-content: flex-start; width: 100% }\n",
       "    .wandb-col { display: flex; flex-direction: column; flex-basis: 100%; flex: 1; padding: 10px; }\n",
       "    </style>\n",
       "<div class=\"wandb-row\"><div class=\"wandb-col\"><h3>Run history:</h3><br/><table class=\"wandb\"><tr><td>accuracy</td><td>▁▂▄▂▅▄▅▆▆▅▆▆▆▆▇▆▇▇▆▇▇▇▇███████</td></tr><tr><td>batch loss</td><td>█▄▂▂▂▂▂▂▂▂▂▂▂▂▂▂▁▁▁▁▁▁▁▁▁▁▁▁▁▁▁▁▁▁▁▁▁▁▁▁</td></tr><tr><td>epoch</td><td>▁▁▁▂▂▂▂▃▃▃▃▄▄▄▄▅▅▅▅▆▆▆▆▇▇▇▇███</td></tr><tr><td>loss</td><td>█▅▃▃▃▃▃▃▂▂▂▂▂▂▂▂▂▂▂▂▁▁▁▁▁▁▁▁▁▁</td></tr></table><br/></div><div class=\"wandb-col\"><h3>Run summary:</h3><br/><table class=\"wandb\"><tr><td>accuracy</td><td>0.97</td></tr><tr><td>batch loss</td><td>0.41384</td></tr><tr><td>epoch</td><td>29</td></tr><tr><td>loss</td><td>0.34246</td></tr></table><br/></div></div>"
      ],
      "text/plain": [
       "<IPython.core.display.HTML object>"
      ]
     },
     "metadata": {},
     "output_type": "display_data"
    },
    {
     "data": {
      "text/html": [
       " View run <strong style=\"color:#cdcd00\">hearty-sweep-9</strong> at: <a href='https://wandb.ai/nguyen/pytorch-sweeps-demo/runs/1h4mzfve' target=\"_blank\">https://wandb.ai/nguyen/pytorch-sweeps-demo/runs/1h4mzfve</a><br/>Synced 6 W&B file(s), 0 media file(s), 0 artifact file(s) and 0 other file(s)"
      ],
      "text/plain": [
       "<IPython.core.display.HTML object>"
      ]
     },
     "metadata": {},
     "output_type": "display_data"
    },
    {
     "data": {
      "text/html": [
       "Find logs at: <code>.\\wandb\\run-20231119_123418-1h4mzfve\\logs</code>"
      ],
      "text/plain": [
       "<IPython.core.display.HTML object>"
      ]
     },
     "metadata": {},
     "output_type": "display_data"
    },
    {
     "name": "stderr",
     "output_type": "stream",
     "text": [
      "\u001b[34m\u001b[1mwandb\u001b[0m: Sweep Agent: Waiting for job.\n",
      "\u001b[34m\u001b[1mwandb\u001b[0m: Job received.\n",
      "\u001b[34m\u001b[1mwandb\u001b[0m: Agent Starting Run: 18v52cqn with config:\n",
      "\u001b[34m\u001b[1mwandb\u001b[0m: \tbatch_size: 136\n",
      "\u001b[34m\u001b[1mwandb\u001b[0m: \tepochs: 30\n",
      "\u001b[34m\u001b[1mwandb\u001b[0m: \tfc_layer_size: 512\n",
      "\u001b[34m\u001b[1mwandb\u001b[0m: \tlearning_rate: 0.00036571020561291867\n",
      "\u001b[34m\u001b[1mwandb\u001b[0m: \toptimizer: sgd\n",
      "Failed to detect the name of this notebook, you can set it manually with the WANDB_NOTEBOOK_NAME environment variable to enable code saving.\n"
     ]
    },
    {
     "data": {
      "text/html": [
       "Tracking run with wandb version 0.16.0"
      ],
      "text/plain": [
       "<IPython.core.display.HTML object>"
      ]
     },
     "metadata": {},
     "output_type": "display_data"
    },
    {
     "data": {
      "text/html": [
       "Run data is saved locally in <code>d:\\pnstack\\template-pytorch-model\\wandb\\run-20231119_123534-18v52cqn</code>"
      ],
      "text/plain": [
       "<IPython.core.display.HTML object>"
      ]
     },
     "metadata": {},
     "output_type": "display_data"
    },
    {
     "data": {
      "text/html": [
       "Syncing run <strong><a href='https://wandb.ai/nguyen/pytorch-sweeps-demo/runs/18v52cqn' target=\"_blank\">firm-sweep-10</a></strong> to <a href='https://wandb.ai/nguyen/pytorch-sweeps-demo' target=\"_blank\">Weights & Biases</a> (<a href='https://wandb.me/run' target=\"_blank\">docs</a>)<br/>Sweep page: <a href='https://wandb.ai/nguyen/pytorch-sweeps-demo/sweeps/04b419v1' target=\"_blank\">https://wandb.ai/nguyen/pytorch-sweeps-demo/sweeps/04b419v1</a>"
      ],
      "text/plain": [
       "<IPython.core.display.HTML object>"
      ]
     },
     "metadata": {},
     "output_type": "display_data"
    },
    {
     "data": {
      "text/html": [
       " View project at <a href='https://wandb.ai/nguyen/pytorch-sweeps-demo' target=\"_blank\">https://wandb.ai/nguyen/pytorch-sweeps-demo</a>"
      ],
      "text/plain": [
       "<IPython.core.display.HTML object>"
      ]
     },
     "metadata": {},
     "output_type": "display_data"
    },
    {
     "data": {
      "text/html": [
       " View sweep at <a href='https://wandb.ai/nguyen/pytorch-sweeps-demo/sweeps/04b419v1' target=\"_blank\">https://wandb.ai/nguyen/pytorch-sweeps-demo/sweeps/04b419v1</a>"
      ],
      "text/plain": [
       "<IPython.core.display.HTML object>"
      ]
     },
     "metadata": {},
     "output_type": "display_data"
    },
    {
     "data": {
      "text/html": [
       " View run at <a href='https://wandb.ai/nguyen/pytorch-sweeps-demo/runs/18v52cqn' target=\"_blank\">https://wandb.ai/nguyen/pytorch-sweeps-demo/runs/18v52cqn</a>"
      ],
      "text/plain": [
       "<IPython.core.display.HTML object>"
      ]
     },
     "metadata": {},
     "output_type": "display_data"
    },
    {
     "name": "stdout",
     "output_type": "stream",
     "text": [
      "config {'batch_size': 136, 'epochs': 30, 'fc_layer_size': 512, 'learning_rate': 0.00036571020561291867, 'optimizer': 'sgd'}\n",
      "Epoch 0 avg loss: 1.118792454401652 accuracy: 0.3333333333333333\n",
      "Epoch 1 avg loss: 1.152204950650533 accuracy: 0.33666666666666667\n",
      "Epoch 2 avg loss: 1.0642003615697224 accuracy: 0.3333333333333333\n",
      "Epoch 3 avg loss: 1.0960909128189087 accuracy: 0.5933333333333334\n",
      "Epoch 4 avg loss: 1.064041256904602 accuracy: 0.56\n",
      "Epoch 5 avg loss: 1.0230390826861064 accuracy: 0.6133333333333333\n",
      "Epoch 6 avg loss: 1.0277734398841858 accuracy: 0.4633333333333333\n",
      "Epoch 7 avg loss: 0.9668747782707214 accuracy: 0.5833333333333334\n",
      "Epoch 8 avg loss: 0.9793010751406351 accuracy: 0.65\n",
      "Epoch 9 avg loss: 0.9468955993652344 accuracy: 0.5333333333333333\n",
      "Epoch 10 avg loss: 0.950529158115387 accuracy: 0.7666666666666667\n",
      "Epoch 11 avg loss: 0.8680163820584615 accuracy: 0.57\n",
      "Epoch 12 avg loss: 0.8589455286661783 accuracy: 0.8133333333333334\n",
      "Epoch 13 avg loss: 0.8281049132347107 accuracy: 0.62\n",
      "Epoch 14 avg loss: 0.8317559162775675 accuracy: 0.82\n",
      "Epoch 15 avg loss: 0.7832950552304586 accuracy: 0.77\n",
      "Epoch 16 avg loss: 0.7819312214851379 accuracy: 0.7133333333333334\n",
      "Epoch 17 avg loss: 0.7331586281458536 accuracy: 0.82\n",
      "Epoch 18 avg loss: 0.7393091917037964 accuracy: 0.7633333333333333\n",
      "Epoch 19 avg loss: 0.7079698840777079 accuracy: 0.8166666666666667\n",
      "Epoch 20 avg loss: 0.6698652505874634 accuracy: 0.74\n",
      "Epoch 21 avg loss: 0.6500520706176758 accuracy: 0.8033333333333333\n",
      "Epoch 22 avg loss: 0.6154334743817648 accuracy: 0.7933333333333333\n",
      "Epoch 23 avg loss: 0.6541456977526346 accuracy: 0.8133333333333334\n",
      "Epoch 24 avg loss: 0.5801876882712046 accuracy: 0.86\n",
      "Epoch 25 avg loss: 0.5841079354286194 accuracy: 0.8266666666666667\n",
      "Epoch 26 avg loss: 0.5838109453519186 accuracy: 0.8033333333333333\n",
      "Epoch 27 avg loss: 0.5815592408180237 accuracy: 0.8733333333333333\n",
      "Epoch 28 avg loss: 0.5300563474496206 accuracy: 0.8666666666666667\n",
      "Epoch 29 avg loss: 0.5724628965059916 accuracy: 0.89\n"
     ]
    },
    {
     "data": {
      "text/html": [
       "<style>\n",
       "    table.wandb td:nth-child(1) { padding: 0 10px; text-align: left ; width: auto;} td:nth-child(2) {text-align: left ; width: 100%}\n",
       "    .wandb-row { display: flex; flex-direction: row; flex-wrap: wrap; justify-content: flex-start; width: 100% }\n",
       "    .wandb-col { display: flex; flex-direction: column; flex-basis: 100%; flex: 1; padding: 10px; }\n",
       "    </style>\n",
       "<div class=\"wandb-row\"><div class=\"wandb-col\"><h3>Run history:</h3><br/><table class=\"wandb\"><tr><td>accuracy</td><td>▁▁▁▄▄▅▃▄▅▄▆▄▇▅▇▆▆▇▆▇▆▇▇▇█▇▇███</td></tr><tr><td>batch loss</td><td>▇█▇▇██▇▇▆▇▆▆▅▇▆▅▅▄▅▅▄▄▄▄▄▄▃▃▃▃▁▃▃▂▂▂▂▂▁▃</td></tr><tr><td>epoch</td><td>▁▁▁▂▂▂▂▃▃▃▃▄▄▄▄▅▅▅▅▆▆▆▆▇▇▇▇███</td></tr><tr><td>loss</td><td>██▇▇▇▇▇▆▆▆▆▅▅▄▄▄▄▃▃▃▃▂▂▂▂▂▂▂▁▁</td></tr></table><br/></div><div class=\"wandb-col\"><h3>Run summary:</h3><br/><table class=\"wandb\"><tr><td>accuracy</td><td>0.89</td></tr><tr><td>batch loss</td><td>0.63121</td></tr><tr><td>epoch</td><td>29</td></tr><tr><td>loss</td><td>0.57246</td></tr></table><br/></div></div>"
      ],
      "text/plain": [
       "<IPython.core.display.HTML object>"
      ]
     },
     "metadata": {},
     "output_type": "display_data"
    },
    {
     "data": {
      "text/html": [
       " View run <strong style=\"color:#cdcd00\">firm-sweep-10</strong> at: <a href='https://wandb.ai/nguyen/pytorch-sweeps-demo/runs/18v52cqn' target=\"_blank\">https://wandb.ai/nguyen/pytorch-sweeps-demo/runs/18v52cqn</a><br/>Synced 6 W&B file(s), 0 media file(s), 0 artifact file(s) and 0 other file(s)"
      ],
      "text/plain": [
       "<IPython.core.display.HTML object>"
      ]
     },
     "metadata": {},
     "output_type": "display_data"
    },
    {
     "data": {
      "text/html": [
       "Find logs at: <code>.\\wandb\\run-20231119_123534-18v52cqn\\logs</code>"
      ],
      "text/plain": [
       "<IPython.core.display.HTML object>"
      ]
     },
     "metadata": {},
     "output_type": "display_data"
    },
    {
     "name": "stderr",
     "output_type": "stream",
     "text": [
      "\u001b[34m\u001b[1mwandb\u001b[0m: Agent Starting Run: m1oimw60 with config:\n",
      "\u001b[34m\u001b[1mwandb\u001b[0m: \tbatch_size: 48\n",
      "\u001b[34m\u001b[1mwandb\u001b[0m: \tepochs: 20\n",
      "\u001b[34m\u001b[1mwandb\u001b[0m: \tfc_layer_size: 512\n",
      "\u001b[34m\u001b[1mwandb\u001b[0m: \tlearning_rate: 0.0008573564015833163\n",
      "\u001b[34m\u001b[1mwandb\u001b[0m: \toptimizer: adam\n",
      "Failed to detect the name of this notebook, you can set it manually with the WANDB_NOTEBOOK_NAME environment variable to enable code saving.\n"
     ]
    },
    {
     "data": {
      "text/html": [
       "Tracking run with wandb version 0.16.0"
      ],
      "text/plain": [
       "<IPython.core.display.HTML object>"
      ]
     },
     "metadata": {},
     "output_type": "display_data"
    },
    {
     "data": {
      "text/html": [
       "Run data is saved locally in <code>d:\\pnstack\\template-pytorch-model\\wandb\\run-20231119_123644-m1oimw60</code>"
      ],
      "text/plain": [
       "<IPython.core.display.HTML object>"
      ]
     },
     "metadata": {},
     "output_type": "display_data"
    },
    {
     "data": {
      "text/html": [
       "Syncing run <strong><a href='https://wandb.ai/nguyen/pytorch-sweeps-demo/runs/m1oimw60' target=\"_blank\">pleasant-sweep-11</a></strong> to <a href='https://wandb.ai/nguyen/pytorch-sweeps-demo' target=\"_blank\">Weights & Biases</a> (<a href='https://wandb.me/run' target=\"_blank\">docs</a>)<br/>Sweep page: <a href='https://wandb.ai/nguyen/pytorch-sweeps-demo/sweeps/04b419v1' target=\"_blank\">https://wandb.ai/nguyen/pytorch-sweeps-demo/sweeps/04b419v1</a>"
      ],
      "text/plain": [
       "<IPython.core.display.HTML object>"
      ]
     },
     "metadata": {},
     "output_type": "display_data"
    },
    {
     "data": {
      "text/html": [
       " View project at <a href='https://wandb.ai/nguyen/pytorch-sweeps-demo' target=\"_blank\">https://wandb.ai/nguyen/pytorch-sweeps-demo</a>"
      ],
      "text/plain": [
       "<IPython.core.display.HTML object>"
      ]
     },
     "metadata": {},
     "output_type": "display_data"
    },
    {
     "data": {
      "text/html": [
       " View sweep at <a href='https://wandb.ai/nguyen/pytorch-sweeps-demo/sweeps/04b419v1' target=\"_blank\">https://wandb.ai/nguyen/pytorch-sweeps-demo/sweeps/04b419v1</a>"
      ],
      "text/plain": [
       "<IPython.core.display.HTML object>"
      ]
     },
     "metadata": {},
     "output_type": "display_data"
    },
    {
     "data": {
      "text/html": [
       " View run at <a href='https://wandb.ai/nguyen/pytorch-sweeps-demo/runs/m1oimw60' target=\"_blank\">https://wandb.ai/nguyen/pytorch-sweeps-demo/runs/m1oimw60</a>"
      ],
      "text/plain": [
       "<IPython.core.display.HTML object>"
      ]
     },
     "metadata": {},
     "output_type": "display_data"
    },
    {
     "name": "stdout",
     "output_type": "stream",
     "text": [
      "config {'batch_size': 48, 'epochs': 20, 'fc_layer_size': 512, 'learning_rate': 0.0008573564015833163, 'optimizer': 'adam'}\n",
      "Epoch 0 avg loss: 43.23216787406376 accuracy: 0.4633333333333333\n",
      "Epoch 1 avg loss: 8.455473474093846 accuracy: 0.5366666666666666\n",
      "Epoch 2 avg loss: 2.1964984961918423 accuracy: 0.6033333333333334\n",
      "Epoch 3 avg loss: 1.0085733234882355 accuracy: 0.7633333333333333\n",
      "Epoch 4 avg loss: 0.524506396480969 accuracy: 0.8866666666666667\n",
      "Epoch 5 avg loss: 0.42527808248996735 accuracy: 0.9233333333333333\n",
      "Epoch 6 avg loss: 0.30953511595726013 accuracy: 0.94\n",
      "Epoch 7 avg loss: 0.22220622881182603 accuracy: 0.9466666666666667\n",
      "Epoch 8 avg loss: 0.06270315019147736 accuracy: 0.9766666666666667\n",
      "Epoch 9 avg loss: 0.0721016882785729 accuracy: 0.9966666666666667\n",
      "Epoch 10 avg loss: 0.023445964524788514 accuracy: 0.9166666666666666\n",
      "Epoch 11 avg loss: 0.06629398744553328 accuracy: 0.9266666666666666\n",
      "Epoch 12 avg loss: 0.05987735521713538 accuracy: 1.0\n",
      "Epoch 13 avg loss: 0.016864585573785007 accuracy: 1.0\n",
      "Epoch 14 avg loss: 0.01154231998537268 accuracy: 1.0\n",
      "Epoch 15 avg loss: 0.007581613725051284 accuracy: 1.0\n",
      "Epoch 16 avg loss: 0.004403046448715031 accuracy: 1.0\n",
      "Epoch 17 avg loss: 0.0026308108353987336 accuracy: 1.0\n",
      "Epoch 18 avg loss: 0.002658716353055622 accuracy: 1.0\n",
      "Epoch 19 avg loss: 0.0022668413086129086 accuracy: 1.0\n"
     ]
    },
    {
     "data": {
      "text/html": [
       "<style>\n",
       "    table.wandb td:nth-child(1) { padding: 0 10px; text-align: left ; width: auto;} td:nth-child(2) {text-align: left ; width: 100%}\n",
       "    .wandb-row { display: flex; flex-direction: row; flex-wrap: wrap; justify-content: flex-start; width: 100% }\n",
       "    .wandb-col { display: flex; flex-direction: column; flex-basis: 100%; flex: 1; padding: 10px; }\n",
       "    </style>\n",
       "<div class=\"wandb-row\"><div class=\"wandb-col\"><h3>Run history:</h3><br/><table class=\"wandb\"><tr><td>accuracy</td><td>▁▂▃▅▇▇▇▇██▇▇████████</td></tr><tr><td>batch loss</td><td>█▃▂▁▁▁▁▁▁▁▁▁▁▁▁▁▁▁▁▁▁▁▁▁▁▁▁▁▁▁▁▁▁▁▁▁▁▁▁▁</td></tr><tr><td>epoch</td><td>▁▁▂▂▂▃▃▄▄▄▅▅▅▆▆▇▇▇██</td></tr><tr><td>loss</td><td>█▂▁▁▁▁▁▁▁▁▁▁▁▁▁▁▁▁▁▁</td></tr></table><br/></div><div class=\"wandb-col\"><h3>Run summary:</h3><br/><table class=\"wandb\"><tr><td>accuracy</td><td>1.0</td></tr><tr><td>batch loss</td><td>0.00201</td></tr><tr><td>epoch</td><td>19</td></tr><tr><td>loss</td><td>0.00227</td></tr></table><br/></div></div>"
      ],
      "text/plain": [
       "<IPython.core.display.HTML object>"
      ]
     },
     "metadata": {},
     "output_type": "display_data"
    },
    {
     "data": {
      "text/html": [
       " View run <strong style=\"color:#cdcd00\">pleasant-sweep-11</strong> at: <a href='https://wandb.ai/nguyen/pytorch-sweeps-demo/runs/m1oimw60' target=\"_blank\">https://wandb.ai/nguyen/pytorch-sweeps-demo/runs/m1oimw60</a><br/>Synced 6 W&B file(s), 0 media file(s), 0 artifact file(s) and 0 other file(s)"
      ],
      "text/plain": [
       "<IPython.core.display.HTML object>"
      ]
     },
     "metadata": {},
     "output_type": "display_data"
    },
    {
     "data": {
      "text/html": [
       "Find logs at: <code>.\\wandb\\run-20231119_123644-m1oimw60\\logs</code>"
      ],
      "text/plain": [
       "<IPython.core.display.HTML object>"
      ]
     },
     "metadata": {},
     "output_type": "display_data"
    },
    {
     "name": "stderr",
     "output_type": "stream",
     "text": [
      "\u001b[34m\u001b[1mwandb\u001b[0m: Agent Starting Run: zzelunog with config:\n",
      "\u001b[34m\u001b[1mwandb\u001b[0m: \tbatch_size: 48\n",
      "\u001b[34m\u001b[1mwandb\u001b[0m: \tepochs: 20\n",
      "\u001b[34m\u001b[1mwandb\u001b[0m: \tfc_layer_size: 512\n",
      "\u001b[34m\u001b[1mwandb\u001b[0m: \tlearning_rate: 0.0008455035633764639\n",
      "\u001b[34m\u001b[1mwandb\u001b[0m: \toptimizer: sgd\n",
      "Failed to detect the name of this notebook, you can set it manually with the WANDB_NOTEBOOK_NAME environment variable to enable code saving.\n"
     ]
    },
    {
     "data": {
      "text/html": [
       "Tracking run with wandb version 0.16.0"
      ],
      "text/plain": [
       "<IPython.core.display.HTML object>"
      ]
     },
     "metadata": {},
     "output_type": "display_data"
    },
    {
     "data": {
      "text/html": [
       "Run data is saved locally in <code>d:\\pnstack\\template-pytorch-model\\wandb\\run-20231119_123750-zzelunog</code>"
      ],
      "text/plain": [
       "<IPython.core.display.HTML object>"
      ]
     },
     "metadata": {},
     "output_type": "display_data"
    },
    {
     "data": {
      "text/html": [
       "Syncing run <strong><a href='https://wandb.ai/nguyen/pytorch-sweeps-demo/runs/zzelunog' target=\"_blank\">zany-sweep-12</a></strong> to <a href='https://wandb.ai/nguyen/pytorch-sweeps-demo' target=\"_blank\">Weights & Biases</a> (<a href='https://wandb.me/run' target=\"_blank\">docs</a>)<br/>Sweep page: <a href='https://wandb.ai/nguyen/pytorch-sweeps-demo/sweeps/04b419v1' target=\"_blank\">https://wandb.ai/nguyen/pytorch-sweeps-demo/sweeps/04b419v1</a>"
      ],
      "text/plain": [
       "<IPython.core.display.HTML object>"
      ]
     },
     "metadata": {},
     "output_type": "display_data"
    },
    {
     "data": {
      "text/html": [
       " View project at <a href='https://wandb.ai/nguyen/pytorch-sweeps-demo' target=\"_blank\">https://wandb.ai/nguyen/pytorch-sweeps-demo</a>"
      ],
      "text/plain": [
       "<IPython.core.display.HTML object>"
      ]
     },
     "metadata": {},
     "output_type": "display_data"
    },
    {
     "data": {
      "text/html": [
       " View sweep at <a href='https://wandb.ai/nguyen/pytorch-sweeps-demo/sweeps/04b419v1' target=\"_blank\">https://wandb.ai/nguyen/pytorch-sweeps-demo/sweeps/04b419v1</a>"
      ],
      "text/plain": [
       "<IPython.core.display.HTML object>"
      ]
     },
     "metadata": {},
     "output_type": "display_data"
    },
    {
     "data": {
      "text/html": [
       " View run at <a href='https://wandb.ai/nguyen/pytorch-sweeps-demo/runs/zzelunog' target=\"_blank\">https://wandb.ai/nguyen/pytorch-sweeps-demo/runs/zzelunog</a>"
      ],
      "text/plain": [
       "<IPython.core.display.HTML object>"
      ]
     },
     "metadata": {},
     "output_type": "display_data"
    },
    {
     "name": "stdout",
     "output_type": "stream",
     "text": [
      "config {'batch_size': 48, 'epochs': 20, 'fc_layer_size': 512, 'learning_rate': 0.0008455035633764639, 'optimizer': 'sgd'}\n",
      "Epoch 0 avg loss: 1.1238780191966466 accuracy: 0.3933333333333333\n",
      "Epoch 1 avg loss: 1.047415316104889 accuracy: 0.3333333333333333\n",
      "Epoch 2 avg loss: 1.3615917648587907 accuracy: 0.3333333333333333\n",
      "Epoch 3 avg loss: 1.0307065078190394 accuracy: 0.38666666666666666\n",
      "Epoch 4 avg loss: 1.0553361773490906 accuracy: 0.44333333333333336\n",
      "Epoch 5 avg loss: 0.977301469870976 accuracy: 0.72\n",
      "Epoch 6 avg loss: 0.956444229398455 accuracy: 0.7766666666666666\n",
      "Epoch 7 avg loss: 0.9009811622755868 accuracy: 0.7566666666666667\n",
      "Epoch 8 avg loss: 0.8610833542687553 accuracy: 0.82\n",
      "Epoch 9 avg loss: 0.7977229016167777 accuracy: 0.7266666666666667\n",
      "Epoch 10 avg loss: 0.7668233173234122 accuracy: 0.7033333333333334\n",
      "Epoch 11 avg loss: 0.7380774787494114 accuracy: 0.59\n",
      "Epoch 12 avg loss: 0.7044064828327724 accuracy: 0.7466666666666667\n",
      "Epoch 13 avg loss: 0.6268118449619838 accuracy: 0.8266666666666667\n",
      "Epoch 14 avg loss: 0.5524363347462246 accuracy: 0.9066666666666666\n",
      "Epoch 15 avg loss: 0.4957670569419861 accuracy: 0.87\n",
      "Epoch 16 avg loss: 0.45413038986069815 accuracy: 0.8633333333333333\n",
      "Epoch 17 avg loss: 0.411521886076246 accuracy: 0.9233333333333333\n",
      "Epoch 18 avg loss: 0.34107264450618197 accuracy: 0.9366666666666666\n",
      "Epoch 19 avg loss: 0.3187362402677536 accuracy: 0.9433333333333334\n"
     ]
    },
    {
     "data": {
      "text/html": [
       "<style>\n",
       "    table.wandb td:nth-child(1) { padding: 0 10px; text-align: left ; width: auto;} td:nth-child(2) {text-align: left ; width: 100%}\n",
       "    .wandb-row { display: flex; flex-direction: row; flex-wrap: wrap; justify-content: flex-start; width: 100% }\n",
       "    .wandb-col { display: flex; flex-direction: column; flex-basis: 100%; flex: 1; padding: 10px; }\n",
       "    </style>\n",
       "<div class=\"wandb-row\"><div class=\"wandb-col\"><h3>Run history:</h3><br/><table class=\"wandb\"><tr><td>accuracy</td><td>▂▁▁▂▂▅▆▆▇▆▅▄▆▇█▇▇███</td></tr><tr><td>batch loss</td><td>▅▆▅▆█▅▄▄▅▅▄▄▄▄▄▄▄▃▃▃▃▃▂▃▃▃▃▃▂▂▂▂▂▂▁▁▁▁▁▁</td></tr><tr><td>epoch</td><td>▁▁▂▂▂▃▃▄▄▄▅▅▅▆▆▇▇▇██</td></tr><tr><td>loss</td><td>▆▆█▆▆▅▅▅▅▄▄▄▄▃▃▂▂▂▁▁</td></tr></table><br/></div><div class=\"wandb-col\"><h3>Run summary:</h3><br/><table class=\"wandb\"><tr><td>accuracy</td><td>0.94333</td></tr><tr><td>batch loss</td><td>0.31127</td></tr><tr><td>epoch</td><td>19</td></tr><tr><td>loss</td><td>0.31874</td></tr></table><br/></div></div>"
      ],
      "text/plain": [
       "<IPython.core.display.HTML object>"
      ]
     },
     "metadata": {},
     "output_type": "display_data"
    },
    {
     "data": {
      "text/html": [
       " View run <strong style=\"color:#cdcd00\">zany-sweep-12</strong> at: <a href='https://wandb.ai/nguyen/pytorch-sweeps-demo/runs/zzelunog' target=\"_blank\">https://wandb.ai/nguyen/pytorch-sweeps-demo/runs/zzelunog</a><br/>Synced 6 W&B file(s), 0 media file(s), 0 artifact file(s) and 0 other file(s)"
      ],
      "text/plain": [
       "<IPython.core.display.HTML object>"
      ]
     },
     "metadata": {},
     "output_type": "display_data"
    },
    {
     "data": {
      "text/html": [
       "Find logs at: <code>.\\wandb\\run-20231119_123750-zzelunog\\logs</code>"
      ],
      "text/plain": [
       "<IPython.core.display.HTML object>"
      ]
     },
     "metadata": {},
     "output_type": "display_data"
    },
    {
     "name": "stderr",
     "output_type": "stream",
     "text": [
      "\u001b[34m\u001b[1mwandb\u001b[0m: Agent Starting Run: 24a1ja8c with config:\n",
      "\u001b[34m\u001b[1mwandb\u001b[0m: \tbatch_size: 72\n",
      "\u001b[34m\u001b[1mwandb\u001b[0m: \tepochs: 30\n",
      "\u001b[34m\u001b[1mwandb\u001b[0m: \tfc_layer_size: 256\n",
      "\u001b[34m\u001b[1mwandb\u001b[0m: \tlearning_rate: 0.00014496414953283287\n",
      "\u001b[34m\u001b[1mwandb\u001b[0m: \toptimizer: sgd\n",
      "Failed to detect the name of this notebook, you can set it manually with the WANDB_NOTEBOOK_NAME environment variable to enable code saving.\n"
     ]
    },
    {
     "data": {
      "text/html": [
       "Tracking run with wandb version 0.16.0"
      ],
      "text/plain": [
       "<IPython.core.display.HTML object>"
      ]
     },
     "metadata": {},
     "output_type": "display_data"
    },
    {
     "data": {
      "text/html": [
       "Run data is saved locally in <code>d:\\pnstack\\template-pytorch-model\\wandb\\run-20231119_123846-24a1ja8c</code>"
      ],
      "text/plain": [
       "<IPython.core.display.HTML object>"
      ]
     },
     "metadata": {},
     "output_type": "display_data"
    },
    {
     "data": {
      "text/html": [
       "Syncing run <strong><a href='https://wandb.ai/nguyen/pytorch-sweeps-demo/runs/24a1ja8c' target=\"_blank\">snowy-sweep-13</a></strong> to <a href='https://wandb.ai/nguyen/pytorch-sweeps-demo' target=\"_blank\">Weights & Biases</a> (<a href='https://wandb.me/run' target=\"_blank\">docs</a>)<br/>Sweep page: <a href='https://wandb.ai/nguyen/pytorch-sweeps-demo/sweeps/04b419v1' target=\"_blank\">https://wandb.ai/nguyen/pytorch-sweeps-demo/sweeps/04b419v1</a>"
      ],
      "text/plain": [
       "<IPython.core.display.HTML object>"
      ]
     },
     "metadata": {},
     "output_type": "display_data"
    },
    {
     "data": {
      "text/html": [
       " View project at <a href='https://wandb.ai/nguyen/pytorch-sweeps-demo' target=\"_blank\">https://wandb.ai/nguyen/pytorch-sweeps-demo</a>"
      ],
      "text/plain": [
       "<IPython.core.display.HTML object>"
      ]
     },
     "metadata": {},
     "output_type": "display_data"
    },
    {
     "data": {
      "text/html": [
       " View sweep at <a href='https://wandb.ai/nguyen/pytorch-sweeps-demo/sweeps/04b419v1' target=\"_blank\">https://wandb.ai/nguyen/pytorch-sweeps-demo/sweeps/04b419v1</a>"
      ],
      "text/plain": [
       "<IPython.core.display.HTML object>"
      ]
     },
     "metadata": {},
     "output_type": "display_data"
    },
    {
     "data": {
      "text/html": [
       " View run at <a href='https://wandb.ai/nguyen/pytorch-sweeps-demo/runs/24a1ja8c' target=\"_blank\">https://wandb.ai/nguyen/pytorch-sweeps-demo/runs/24a1ja8c</a>"
      ],
      "text/plain": [
       "<IPython.core.display.HTML object>"
      ]
     },
     "metadata": {},
     "output_type": "display_data"
    },
    {
     "name": "stdout",
     "output_type": "stream",
     "text": [
      "config {'batch_size': 72, 'epochs': 30, 'fc_layer_size': 256, 'learning_rate': 0.00014496414953283287, 'optimizer': 'sgd'}\n",
      "Epoch 0 avg loss: 1.1097175121307372 accuracy: 0.39\n",
      "Epoch 1 avg loss: 1.0809247255325318 accuracy: 0.47\n",
      "Epoch 2 avg loss: 1.0654590845108032 accuracy: 0.53\n",
      "Epoch 3 avg loss: 1.049239182472229 accuracy: 0.57\n",
      "Epoch 4 avg loss: 1.0253757953643798 accuracy: 0.5966666666666667\n",
      "Epoch 5 avg loss: 1.0117618918418885 accuracy: 0.6633333333333333\n",
      "Epoch 6 avg loss: 0.9659486293792725 accuracy: 0.5466666666666666\n",
      "Epoch 7 avg loss: 0.9469417572021485 accuracy: 0.8233333333333334\n",
      "Epoch 8 avg loss: 0.92502863407135 accuracy: 0.73\n",
      "Epoch 9 avg loss: 0.8861358284950256 accuracy: 0.7633333333333333\n",
      "Epoch 10 avg loss: 0.8891657590866089 accuracy: 0.69\n",
      "Epoch 11 avg loss: 0.8473692417144776 accuracy: 0.7466666666666667\n",
      "Epoch 12 avg loss: 0.8429461717605591 accuracy: 0.7733333333333333\n",
      "Epoch 13 avg loss: 0.8096338868141174 accuracy: 0.8433333333333334\n",
      "Epoch 14 avg loss: 0.7837857246398926 accuracy: 0.7733333333333333\n",
      "Epoch 15 avg loss: 0.7663710713386536 accuracy: 0.7333333333333333\n",
      "Epoch 16 avg loss: 0.726806378364563 accuracy: 0.7733333333333333\n",
      "Epoch 17 avg loss: 0.7170411705970764 accuracy: 0.78\n",
      "Epoch 18 avg loss: 0.6813941836357117 accuracy: 0.8\n",
      "Epoch 19 avg loss: 0.7328060626983642 accuracy: 0.8\n",
      "Epoch 20 avg loss: 0.7074477910995484 accuracy: 0.76\n",
      "Epoch 21 avg loss: 0.6768245577812195 accuracy: 0.73\n",
      "Epoch 22 avg loss: 0.6845658421516418 accuracy: 0.76\n",
      "Epoch 23 avg loss: 0.6837989330291748 accuracy: 0.8633333333333333\n",
      "Epoch 24 avg loss: 0.6100107312202454 accuracy: 0.7833333333333333\n",
      "Epoch 25 avg loss: 0.6302353262901306 accuracy: 0.83\n",
      "Epoch 26 avg loss: 0.6007073521614075 accuracy: 0.9133333333333333\n",
      "Epoch 27 avg loss: 0.5753084659576416 accuracy: 0.8766666666666667\n",
      "Epoch 28 avg loss: 0.5601069331169128 accuracy: 0.91\n",
      "Epoch 29 avg loss: 0.5264066696166992 accuracy: 0.9033333333333333\n"
     ]
    },
    {
     "data": {
      "text/html": [
       "<style>\n",
       "    table.wandb td:nth-child(1) { padding: 0 10px; text-align: left ; width: auto;} td:nth-child(2) {text-align: left ; width: 100%}\n",
       "    .wandb-row { display: flex; flex-direction: row; flex-wrap: wrap; justify-content: flex-start; width: 100% }\n",
       "    .wandb-col { display: flex; flex-direction: column; flex-basis: 100%; flex: 1; padding: 10px; }\n",
       "    </style>\n",
       "<div class=\"wandb-row\"><div class=\"wandb-col\"><h3>Run history:</h3><br/><table class=\"wandb\"><tr><td>accuracy</td><td>▁▂▃▃▄▅▃▇▆▆▅▆▆▇▆▆▆▆▆▆▆▆▆▇▆▇████</td></tr><tr><td>batch loss</td><td>████▇▇▇▇▇▇▆▆▆▅▆▆▅▅▅▅▅▅▅▅▄▄▅▄▄▄▃▄▃▃▃▃▃▃▂▁</td></tr><tr><td>epoch</td><td>▁▁▁▂▂▂▂▃▃▃▃▄▄▄▄▅▅▅▅▆▆▆▆▇▇▇▇███</td></tr><tr><td>loss</td><td>██▇▇▇▇▆▆▆▅▅▅▅▄▄▄▃▃▃▃▃▃▃▃▂▂▂▂▁▁</td></tr></table><br/></div><div class=\"wandb-col\"><h3>Run summary:</h3><br/><table class=\"wandb\"><tr><td>accuracy</td><td>0.90333</td></tr><tr><td>batch loss</td><td>0.39859</td></tr><tr><td>epoch</td><td>29</td></tr><tr><td>loss</td><td>0.52641</td></tr></table><br/></div></div>"
      ],
      "text/plain": [
       "<IPython.core.display.HTML object>"
      ]
     },
     "metadata": {},
     "output_type": "display_data"
    },
    {
     "data": {
      "text/html": [
       " View run <strong style=\"color:#cdcd00\">snowy-sweep-13</strong> at: <a href='https://wandb.ai/nguyen/pytorch-sweeps-demo/runs/24a1ja8c' target=\"_blank\">https://wandb.ai/nguyen/pytorch-sweeps-demo/runs/24a1ja8c</a><br/>Synced 6 W&B file(s), 0 media file(s), 0 artifact file(s) and 0 other file(s)"
      ],
      "text/plain": [
       "<IPython.core.display.HTML object>"
      ]
     },
     "metadata": {},
     "output_type": "display_data"
    },
    {
     "data": {
      "text/html": [
       "Find logs at: <code>.\\wandb\\run-20231119_123846-24a1ja8c\\logs</code>"
      ],
      "text/plain": [
       "<IPython.core.display.HTML object>"
      ]
     },
     "metadata": {},
     "output_type": "display_data"
    },
    {
     "name": "stderr",
     "output_type": "stream",
     "text": [
      "\u001b[34m\u001b[1mwandb\u001b[0m: Agent Starting Run: wb7covum with config:\n",
      "\u001b[34m\u001b[1mwandb\u001b[0m: \tbatch_size: 56\n",
      "\u001b[34m\u001b[1mwandb\u001b[0m: \tepochs: 20\n",
      "\u001b[34m\u001b[1mwandb\u001b[0m: \tfc_layer_size: 512\n",
      "\u001b[34m\u001b[1mwandb\u001b[0m: \tlearning_rate: 0.0008081575165462643\n",
      "\u001b[34m\u001b[1mwandb\u001b[0m: \toptimizer: adam\n",
      "Failed to detect the name of this notebook, you can set it manually with the WANDB_NOTEBOOK_NAME environment variable to enable code saving.\n"
     ]
    },
    {
     "data": {
      "text/html": [
       "Tracking run with wandb version 0.16.0"
      ],
      "text/plain": [
       "<IPython.core.display.HTML object>"
      ]
     },
     "metadata": {},
     "output_type": "display_data"
    },
    {
     "data": {
      "text/html": [
       "Run data is saved locally in <code>d:\\pnstack\\template-pytorch-model\\wandb\\run-20231119_123953-wb7covum</code>"
      ],
      "text/plain": [
       "<IPython.core.display.HTML object>"
      ]
     },
     "metadata": {},
     "output_type": "display_data"
    },
    {
     "data": {
      "text/html": [
       "Syncing run <strong><a href='https://wandb.ai/nguyen/pytorch-sweeps-demo/runs/wb7covum' target=\"_blank\">faithful-sweep-14</a></strong> to <a href='https://wandb.ai/nguyen/pytorch-sweeps-demo' target=\"_blank\">Weights & Biases</a> (<a href='https://wandb.me/run' target=\"_blank\">docs</a>)<br/>Sweep page: <a href='https://wandb.ai/nguyen/pytorch-sweeps-demo/sweeps/04b419v1' target=\"_blank\">https://wandb.ai/nguyen/pytorch-sweeps-demo/sweeps/04b419v1</a>"
      ],
      "text/plain": [
       "<IPython.core.display.HTML object>"
      ]
     },
     "metadata": {},
     "output_type": "display_data"
    },
    {
     "data": {
      "text/html": [
       " View project at <a href='https://wandb.ai/nguyen/pytorch-sweeps-demo' target=\"_blank\">https://wandb.ai/nguyen/pytorch-sweeps-demo</a>"
      ],
      "text/plain": [
       "<IPython.core.display.HTML object>"
      ]
     },
     "metadata": {},
     "output_type": "display_data"
    },
    {
     "data": {
      "text/html": [
       " View sweep at <a href='https://wandb.ai/nguyen/pytorch-sweeps-demo/sweeps/04b419v1' target=\"_blank\">https://wandb.ai/nguyen/pytorch-sweeps-demo/sweeps/04b419v1</a>"
      ],
      "text/plain": [
       "<IPython.core.display.HTML object>"
      ]
     },
     "metadata": {},
     "output_type": "display_data"
    },
    {
     "data": {
      "text/html": [
       " View run at <a href='https://wandb.ai/nguyen/pytorch-sweeps-demo/runs/wb7covum' target=\"_blank\">https://wandb.ai/nguyen/pytorch-sweeps-demo/runs/wb7covum</a>"
      ],
      "text/plain": [
       "<IPython.core.display.HTML object>"
      ]
     },
     "metadata": {},
     "output_type": "display_data"
    },
    {
     "name": "stdout",
     "output_type": "stream",
     "text": [
      "config {'batch_size': 56, 'epochs': 20, 'fc_layer_size': 512, 'learning_rate': 0.0008081575165462643, 'optimizer': 'adam'}\n",
      "Epoch 0 avg loss: 18.500951727231342 accuracy: 0.5333333333333333\n",
      "Epoch 1 avg loss: 2.569656198223432 accuracy: 0.65\n",
      "Epoch 2 avg loss: 0.9490698625644048 accuracy: 0.8466666666666667\n",
      "Epoch 3 avg loss: 0.317298690478007 accuracy: 0.8166666666666667\n",
      "Epoch 4 avg loss: 0.41576165209213894 accuracy: 0.9366666666666666\n",
      "Epoch 5 avg loss: 0.13094803194204965 accuracy: 0.9766666666666667\n",
      "Epoch 6 avg loss: 0.05075278924778104 accuracy: 0.9866666666666667\n",
      "Epoch 7 avg loss: 0.03697505438079437 accuracy: 1.0\n",
      "Epoch 8 avg loss: 0.030807365973790485 accuracy: 1.0\n",
      "Epoch 9 avg loss: 0.019312835453699034 accuracy: 1.0\n",
      "Epoch 10 avg loss: 0.012618189522375664 accuracy: 1.0\n",
      "Epoch 11 avg loss: 0.010350345245872935 accuracy: 1.0\n",
      "Epoch 12 avg loss: 0.008806905786817273 accuracy: 1.0\n",
      "Epoch 13 avg loss: 0.007459965844949086 accuracy: 1.0\n",
      "Epoch 14 avg loss: 0.006796460288266341 accuracy: 1.0\n",
      "Epoch 15 avg loss: 0.006185308254013459 accuracy: 1.0\n",
      "Epoch 16 avg loss: 0.005990352093552549 accuracy: 1.0\n",
      "Epoch 17 avg loss: 0.005950886756181717 accuracy: 1.0\n",
      "Epoch 18 avg loss: 0.004500266106333584 accuracy: 1.0\n",
      "Epoch 19 avg loss: 0.004692211281508207 accuracy: 1.0\n"
     ]
    },
    {
     "data": {
      "text/html": [
       "<style>\n",
       "    table.wandb td:nth-child(1) { padding: 0 10px; text-align: left ; width: auto;} td:nth-child(2) {text-align: left ; width: 100%}\n",
       "    .wandb-row { display: flex; flex-direction: row; flex-wrap: wrap; justify-content: flex-start; width: 100% }\n",
       "    .wandb-col { display: flex; flex-direction: column; flex-basis: 100%; flex: 1; padding: 10px; }\n",
       "    </style>\n",
       "<div class=\"wandb-row\"><div class=\"wandb-col\"><h3>Run history:</h3><br/><table class=\"wandb\"><tr><td>accuracy</td><td>▁▃▆▅▇███████████████</td></tr><tr><td>batch loss</td><td>▂█▃▁▂▂▁▁▂▁▁▁▁▁▁▁▁▁▁▁▁▁▁▁▁▁▁▁▁▁▁▁▁▁▁▁▁▁▁▁</td></tr><tr><td>epoch</td><td>▁▁▂▂▂▃▃▄▄▄▅▅▅▆▆▇▇▇██</td></tr><tr><td>loss</td><td>█▂▁▁▁▁▁▁▁▁▁▁▁▁▁▁▁▁▁▁</td></tr></table><br/></div><div class=\"wandb-col\"><h3>Run summary:</h3><br/><table class=\"wandb\"><tr><td>accuracy</td><td>1.0</td></tr><tr><td>batch loss</td><td>0.00618</td></tr><tr><td>epoch</td><td>19</td></tr><tr><td>loss</td><td>0.00469</td></tr></table><br/></div></div>"
      ],
      "text/plain": [
       "<IPython.core.display.HTML object>"
      ]
     },
     "metadata": {},
     "output_type": "display_data"
    },
    {
     "data": {
      "text/html": [
       " View run <strong style=\"color:#cdcd00\">faithful-sweep-14</strong> at: <a href='https://wandb.ai/nguyen/pytorch-sweeps-demo/runs/wb7covum' target=\"_blank\">https://wandb.ai/nguyen/pytorch-sweeps-demo/runs/wb7covum</a><br/>Synced 6 W&B file(s), 0 media file(s), 0 artifact file(s) and 0 other file(s)"
      ],
      "text/plain": [
       "<IPython.core.display.HTML object>"
      ]
     },
     "metadata": {},
     "output_type": "display_data"
    },
    {
     "data": {
      "text/html": [
       "Find logs at: <code>.\\wandb\\run-20231119_123953-wb7covum\\logs</code>"
      ],
      "text/plain": [
       "<IPython.core.display.HTML object>"
      ]
     },
     "metadata": {},
     "output_type": "display_data"
    },
    {
     "name": "stderr",
     "output_type": "stream",
     "text": [
      "\u001b[34m\u001b[1mwandb\u001b[0m: Agent Starting Run: 1vs4r9qa with config:\n",
      "\u001b[34m\u001b[1mwandb\u001b[0m: \tbatch_size: 48\n",
      "\u001b[34m\u001b[1mwandb\u001b[0m: \tepochs: 20\n",
      "\u001b[34m\u001b[1mwandb\u001b[0m: \tfc_layer_size: 512\n",
      "\u001b[34m\u001b[1mwandb\u001b[0m: \tlearning_rate: 0.000762710080711088\n",
      "\u001b[34m\u001b[1mwandb\u001b[0m: \toptimizer: adam\n",
      "Failed to detect the name of this notebook, you can set it manually with the WANDB_NOTEBOOK_NAME environment variable to enable code saving.\n"
     ]
    },
    {
     "data": {
      "text/html": [
       "Tracking run with wandb version 0.16.0"
      ],
      "text/plain": [
       "<IPython.core.display.HTML object>"
      ]
     },
     "metadata": {},
     "output_type": "display_data"
    },
    {
     "data": {
      "text/html": [
       "Run data is saved locally in <code>d:\\pnstack\\template-pytorch-model\\wandb\\run-20231119_124054-1vs4r9qa</code>"
      ],
      "text/plain": [
       "<IPython.core.display.HTML object>"
      ]
     },
     "metadata": {},
     "output_type": "display_data"
    },
    {
     "data": {
      "text/html": [
       "Syncing run <strong><a href='https://wandb.ai/nguyen/pytorch-sweeps-demo/runs/1vs4r9qa' target=\"_blank\">dulcet-sweep-15</a></strong> to <a href='https://wandb.ai/nguyen/pytorch-sweeps-demo' target=\"_blank\">Weights & Biases</a> (<a href='https://wandb.me/run' target=\"_blank\">docs</a>)<br/>Sweep page: <a href='https://wandb.ai/nguyen/pytorch-sweeps-demo/sweeps/04b419v1' target=\"_blank\">https://wandb.ai/nguyen/pytorch-sweeps-demo/sweeps/04b419v1</a>"
      ],
      "text/plain": [
       "<IPython.core.display.HTML object>"
      ]
     },
     "metadata": {},
     "output_type": "display_data"
    },
    {
     "data": {
      "text/html": [
       " View project at <a href='https://wandb.ai/nguyen/pytorch-sweeps-demo' target=\"_blank\">https://wandb.ai/nguyen/pytorch-sweeps-demo</a>"
      ],
      "text/plain": [
       "<IPython.core.display.HTML object>"
      ]
     },
     "metadata": {},
     "output_type": "display_data"
    },
    {
     "data": {
      "text/html": [
       " View sweep at <a href='https://wandb.ai/nguyen/pytorch-sweeps-demo/sweeps/04b419v1' target=\"_blank\">https://wandb.ai/nguyen/pytorch-sweeps-demo/sweeps/04b419v1</a>"
      ],
      "text/plain": [
       "<IPython.core.display.HTML object>"
      ]
     },
     "metadata": {},
     "output_type": "display_data"
    },
    {
     "data": {
      "text/html": [
       " View run at <a href='https://wandb.ai/nguyen/pytorch-sweeps-demo/runs/1vs4r9qa' target=\"_blank\">https://wandb.ai/nguyen/pytorch-sweeps-demo/runs/1vs4r9qa</a>"
      ],
      "text/plain": [
       "<IPython.core.display.HTML object>"
      ]
     },
     "metadata": {},
     "output_type": "display_data"
    },
    {
     "name": "stdout",
     "output_type": "stream",
     "text": [
      "config {'batch_size': 48, 'epochs': 20, 'fc_layer_size': 512, 'learning_rate': 0.000762710080711088, 'optimizer': 'adam'}\n",
      "Epoch 0 avg loss: 40.78863833631788 accuracy: 0.39666666666666667\n",
      "Epoch 1 avg loss: 7.730775807585035 accuracy: 0.39666666666666667\n",
      "Epoch 2 avg loss: 2.5894578950745717 accuracy: 0.7133333333333334\n",
      "Epoch 3 avg loss: 0.9744108489581517 accuracy: 0.73\n",
      "Epoch 4 avg loss: 0.5827244307313647 accuracy: 0.9333333333333333\n",
      "Epoch 5 avg loss: 0.24557955882378987 accuracy: 0.86\n",
      "Epoch 6 avg loss: 0.22699441867215292 accuracy: 0.97\n",
      "Epoch 7 avg loss: 0.12237193062901497 accuracy: 0.98\n",
      "Epoch 8 avg loss: 0.07908514727439199 accuracy: 0.99\n",
      "Epoch 9 avg loss: 0.059986907722694535 accuracy: 0.9966666666666667\n",
      "Epoch 10 avg loss: 0.04198069657598223 accuracy: 0.9966666666666667\n",
      "Epoch 11 avg loss: 0.03529735774333988 accuracy: 1.0\n",
      "Epoch 12 avg loss: 0.031757059906210215 accuracy: 1.0\n",
      "Epoch 13 avg loss: 0.024908980620758876 accuracy: 1.0\n",
      "Epoch 14 avg loss: 0.02164408444826092 accuracy: 1.0\n",
      "Epoch 15 avg loss: 0.017391732361699854 accuracy: 1.0\n",
      "Epoch 16 avg loss: 0.015365603246859141 accuracy: 1.0\n",
      "Epoch 17 avg loss: 0.012505612070006984 accuracy: 1.0\n",
      "Epoch 18 avg loss: 0.011898096650838852 accuracy: 1.0\n",
      "Epoch 19 avg loss: 0.011816852859088353 accuracy: 1.0\n"
     ]
    },
    {
     "data": {
      "text/html": [
       "<style>\n",
       "    table.wandb td:nth-child(1) { padding: 0 10px; text-align: left ; width: auto;} td:nth-child(2) {text-align: left ; width: 100%}\n",
       "    .wandb-row { display: flex; flex-direction: row; flex-wrap: wrap; justify-content: flex-start; width: 100% }\n",
       "    .wandb-col { display: flex; flex-direction: column; flex-basis: 100%; flex: 1; padding: 10px; }\n",
       "    </style>\n",
       "<div class=\"wandb-row\"><div class=\"wandb-col\"><h3>Run history:</h3><br/><table class=\"wandb\"><tr><td>accuracy</td><td>▁▁▅▅▇▆██████████████</td></tr><tr><td>batch loss</td><td>▅█▂▂▁▁▁▁▁▁▁▁▁▁▁▁▁▁▁▁▁▁▁▁▁▁▁▁▁▁▁▁▁▁▁▁▁▁▁▁</td></tr><tr><td>epoch</td><td>▁▁▂▂▂▃▃▄▄▄▅▅▅▆▆▇▇▇██</td></tr><tr><td>loss</td><td>█▂▁▁▁▁▁▁▁▁▁▁▁▁▁▁▁▁▁▁</td></tr></table><br/></div><div class=\"wandb-col\"><h3>Run summary:</h3><br/><table class=\"wandb\"><tr><td>accuracy</td><td>1.0</td></tr><tr><td>batch loss</td><td>0.01591</td></tr><tr><td>epoch</td><td>19</td></tr><tr><td>loss</td><td>0.01182</td></tr></table><br/></div></div>"
      ],
      "text/plain": [
       "<IPython.core.display.HTML object>"
      ]
     },
     "metadata": {},
     "output_type": "display_data"
    },
    {
     "data": {
      "text/html": [
       " View run <strong style=\"color:#cdcd00\">dulcet-sweep-15</strong> at: <a href='https://wandb.ai/nguyen/pytorch-sweeps-demo/runs/1vs4r9qa' target=\"_blank\">https://wandb.ai/nguyen/pytorch-sweeps-demo/runs/1vs4r9qa</a><br/>Synced 6 W&B file(s), 0 media file(s), 0 artifact file(s) and 0 other file(s)"
      ],
      "text/plain": [
       "<IPython.core.display.HTML object>"
      ]
     },
     "metadata": {},
     "output_type": "display_data"
    },
    {
     "data": {
      "text/html": [
       "Find logs at: <code>.\\wandb\\run-20231119_124054-1vs4r9qa\\logs</code>"
      ],
      "text/plain": [
       "<IPython.core.display.HTML object>"
      ]
     },
     "metadata": {},
     "output_type": "display_data"
    },
    {
     "name": "stderr",
     "output_type": "stream",
     "text": [
      "\u001b[34m\u001b[1mwandb\u001b[0m: Agent Starting Run: iib9xytf with config:\n",
      "\u001b[34m\u001b[1mwandb\u001b[0m: \tbatch_size: 56\n",
      "\u001b[34m\u001b[1mwandb\u001b[0m: \tepochs: 20\n",
      "\u001b[34m\u001b[1mwandb\u001b[0m: \tfc_layer_size: 512\n",
      "\u001b[34m\u001b[1mwandb\u001b[0m: \tlearning_rate: 0.0009883923206319373\n",
      "\u001b[34m\u001b[1mwandb\u001b[0m: \toptimizer: sgd\n",
      "Failed to detect the name of this notebook, you can set it manually with the WANDB_NOTEBOOK_NAME environment variable to enable code saving.\n"
     ]
    },
    {
     "data": {
      "text/html": [
       "Tracking run with wandb version 0.16.0"
      ],
      "text/plain": [
       "<IPython.core.display.HTML object>"
      ]
     },
     "metadata": {},
     "output_type": "display_data"
    },
    {
     "data": {
      "text/html": [
       "Run data is saved locally in <code>d:\\pnstack\\template-pytorch-model\\wandb\\run-20231119_124200-iib9xytf</code>"
      ],
      "text/plain": [
       "<IPython.core.display.HTML object>"
      ]
     },
     "metadata": {},
     "output_type": "display_data"
    },
    {
     "data": {
      "text/html": [
       "Syncing run <strong><a href='https://wandb.ai/nguyen/pytorch-sweeps-demo/runs/iib9xytf' target=\"_blank\">copper-sweep-16</a></strong> to <a href='https://wandb.ai/nguyen/pytorch-sweeps-demo' target=\"_blank\">Weights & Biases</a> (<a href='https://wandb.me/run' target=\"_blank\">docs</a>)<br/>Sweep page: <a href='https://wandb.ai/nguyen/pytorch-sweeps-demo/sweeps/04b419v1' target=\"_blank\">https://wandb.ai/nguyen/pytorch-sweeps-demo/sweeps/04b419v1</a>"
      ],
      "text/plain": [
       "<IPython.core.display.HTML object>"
      ]
     },
     "metadata": {},
     "output_type": "display_data"
    },
    {
     "data": {
      "text/html": [
       " View project at <a href='https://wandb.ai/nguyen/pytorch-sweeps-demo' target=\"_blank\">https://wandb.ai/nguyen/pytorch-sweeps-demo</a>"
      ],
      "text/plain": [
       "<IPython.core.display.HTML object>"
      ]
     },
     "metadata": {},
     "output_type": "display_data"
    },
    {
     "data": {
      "text/html": [
       " View sweep at <a href='https://wandb.ai/nguyen/pytorch-sweeps-demo/sweeps/04b419v1' target=\"_blank\">https://wandb.ai/nguyen/pytorch-sweeps-demo/sweeps/04b419v1</a>"
      ],
      "text/plain": [
       "<IPython.core.display.HTML object>"
      ]
     },
     "metadata": {},
     "output_type": "display_data"
    },
    {
     "data": {
      "text/html": [
       " View run at <a href='https://wandb.ai/nguyen/pytorch-sweeps-demo/runs/iib9xytf' target=\"_blank\">https://wandb.ai/nguyen/pytorch-sweeps-demo/runs/iib9xytf</a>"
      ],
      "text/plain": [
       "<IPython.core.display.HTML object>"
      ]
     },
     "metadata": {},
     "output_type": "display_data"
    },
    {
     "name": "stdout",
     "output_type": "stream",
     "text": [
      "config {'batch_size': 56, 'epochs': 20, 'fc_layer_size': 512, 'learning_rate': 0.0009883923206319373, 'optimizer': 'sgd'}\n",
      "Epoch 0 avg loss: 1.1514442563056946 accuracy: 0.33666666666666667\n",
      "Epoch 1 avg loss: 1.0506749153137207 accuracy: 0.5633333333333334\n",
      "Epoch 2 avg loss: 1.094636748234431 accuracy: 0.7266666666666667\n",
      "Epoch 3 avg loss: 0.9264473716417948 accuracy: 0.6\n",
      "Epoch 4 avg loss: 0.8409828643004099 accuracy: 0.73\n",
      "Epoch 5 avg loss: 0.7818256914615631 accuracy: 0.8133333333333334\n",
      "Epoch 6 avg loss: 0.6770251989364624 accuracy: 0.7666666666666667\n",
      "Epoch 7 avg loss: 0.6218108336130778 accuracy: 0.86\n",
      "Epoch 8 avg loss: 0.5460270096858343 accuracy: 0.87\n",
      "Epoch 9 avg loss: 0.48659076790014905 accuracy: 0.8933333333333333\n",
      "Epoch 10 avg loss: 0.4210679481426875 accuracy: 0.9166666666666666\n",
      "Epoch 11 avg loss: 0.3785465558369954 accuracy: 0.92\n",
      "Epoch 12 avg loss: 0.35521187881628674 accuracy: 0.9266666666666666\n",
      "Epoch 13 avg loss: 0.2934003993868828 accuracy: 0.91\n",
      "Epoch 14 avg loss: 0.30678314218918484 accuracy: 0.9666666666666667\n",
      "Epoch 15 avg loss: 0.23913543423016867 accuracy: 0.97\n",
      "Epoch 16 avg loss: 0.2044848377505938 accuracy: 0.98\n",
      "Epoch 17 avg loss: 0.18648743132750192 accuracy: 0.9766666666666667\n",
      "Epoch 18 avg loss: 0.1781982108950615 accuracy: 0.97\n",
      "Epoch 19 avg loss: 0.163017850369215 accuracy: 0.9633333333333334\n"
     ]
    },
    {
     "data": {
      "text/html": [
       "<style>\n",
       "    table.wandb td:nth-child(1) { padding: 0 10px; text-align: left ; width: auto;} td:nth-child(2) {text-align: left ; width: 100%}\n",
       "    .wandb-row { display: flex; flex-direction: row; flex-wrap: wrap; justify-content: flex-start; width: 100% }\n",
       "    .wandb-col { display: flex; flex-direction: column; flex-basis: 100%; flex: 1; padding: 10px; }\n",
       "    </style>\n",
       "<div class=\"wandb-row\"><div class=\"wandb-col\"><h3>Run history:</h3><br/><table class=\"wandb\"><tr><td>accuracy</td><td>▁▃▅▄▅▆▆▇▇▇▇▇▇▇██████</td></tr><tr><td>batch loss</td><td>▇██▇▆▆▆▅▅▆▅▆▅▄▅▄▄▃▄▃▃▃▃▃▃▂▂▃▂▁▂▂▂▁▂▁▁▁▁▁</td></tr><tr><td>epoch</td><td>▁▁▂▂▂▃▃▄▄▄▅▅▅▆▆▇▇▇██</td></tr><tr><td>loss</td><td>█▇█▆▆▅▅▄▄▃▃▃▂▂▂▂▁▁▁▁</td></tr></table><br/></div><div class=\"wandb-col\"><h3>Run summary:</h3><br/><table class=\"wandb\"><tr><td>accuracy</td><td>0.96333</td></tr><tr><td>batch loss</td><td>0.14189</td></tr><tr><td>epoch</td><td>19</td></tr><tr><td>loss</td><td>0.16302</td></tr></table><br/></div></div>"
      ],
      "text/plain": [
       "<IPython.core.display.HTML object>"
      ]
     },
     "metadata": {},
     "output_type": "display_data"
    },
    {
     "data": {
      "text/html": [
       " View run <strong style=\"color:#cdcd00\">copper-sweep-16</strong> at: <a href='https://wandb.ai/nguyen/pytorch-sweeps-demo/runs/iib9xytf' target=\"_blank\">https://wandb.ai/nguyen/pytorch-sweeps-demo/runs/iib9xytf</a><br/>Synced 6 W&B file(s), 0 media file(s), 0 artifact file(s) and 0 other file(s)"
      ],
      "text/plain": [
       "<IPython.core.display.HTML object>"
      ]
     },
     "metadata": {},
     "output_type": "display_data"
    },
    {
     "data": {
      "text/html": [
       "Find logs at: <code>.\\wandb\\run-20231119_124200-iib9xytf\\logs</code>"
      ],
      "text/plain": [
       "<IPython.core.display.HTML object>"
      ]
     },
     "metadata": {},
     "output_type": "display_data"
    },
    {
     "name": "stderr",
     "output_type": "stream",
     "text": [
      "\u001b[34m\u001b[1mwandb\u001b[0m: Agent Starting Run: 9parihd1 with config:\n",
      "\u001b[34m\u001b[1mwandb\u001b[0m: \tbatch_size: 48\n",
      "\u001b[34m\u001b[1mwandb\u001b[0m: \tepochs: 20\n",
      "\u001b[34m\u001b[1mwandb\u001b[0m: \tfc_layer_size: 512\n",
      "\u001b[34m\u001b[1mwandb\u001b[0m: \tlearning_rate: 0.0008691677716041489\n",
      "\u001b[34m\u001b[1mwandb\u001b[0m: \toptimizer: adam\n",
      "Failed to detect the name of this notebook, you can set it manually with the WANDB_NOTEBOOK_NAME environment variable to enable code saving.\n"
     ]
    },
    {
     "data": {
      "text/html": [
       "Tracking run with wandb version 0.16.0"
      ],
      "text/plain": [
       "<IPython.core.display.HTML object>"
      ]
     },
     "metadata": {},
     "output_type": "display_data"
    },
    {
     "data": {
      "text/html": [
       "Run data is saved locally in <code>d:\\pnstack\\template-pytorch-model\\wandb\\run-20231119_124255-9parihd1</code>"
      ],
      "text/plain": [
       "<IPython.core.display.HTML object>"
      ]
     },
     "metadata": {},
     "output_type": "display_data"
    },
    {
     "data": {
      "text/html": [
       "Syncing run <strong><a href='https://wandb.ai/nguyen/pytorch-sweeps-demo/runs/9parihd1' target=\"_blank\">ancient-sweep-17</a></strong> to <a href='https://wandb.ai/nguyen/pytorch-sweeps-demo' target=\"_blank\">Weights & Biases</a> (<a href='https://wandb.me/run' target=\"_blank\">docs</a>)<br/>Sweep page: <a href='https://wandb.ai/nguyen/pytorch-sweeps-demo/sweeps/04b419v1' target=\"_blank\">https://wandb.ai/nguyen/pytorch-sweeps-demo/sweeps/04b419v1</a>"
      ],
      "text/plain": [
       "<IPython.core.display.HTML object>"
      ]
     },
     "metadata": {},
     "output_type": "display_data"
    },
    {
     "data": {
      "text/html": [
       " View project at <a href='https://wandb.ai/nguyen/pytorch-sweeps-demo' target=\"_blank\">https://wandb.ai/nguyen/pytorch-sweeps-demo</a>"
      ],
      "text/plain": [
       "<IPython.core.display.HTML object>"
      ]
     },
     "metadata": {},
     "output_type": "display_data"
    },
    {
     "data": {
      "text/html": [
       " View sweep at <a href='https://wandb.ai/nguyen/pytorch-sweeps-demo/sweeps/04b419v1' target=\"_blank\">https://wandb.ai/nguyen/pytorch-sweeps-demo/sweeps/04b419v1</a>"
      ],
      "text/plain": [
       "<IPython.core.display.HTML object>"
      ]
     },
     "metadata": {},
     "output_type": "display_data"
    },
    {
     "data": {
      "text/html": [
       " View run at <a href='https://wandb.ai/nguyen/pytorch-sweeps-demo/runs/9parihd1' target=\"_blank\">https://wandb.ai/nguyen/pytorch-sweeps-demo/runs/9parihd1</a>"
      ],
      "text/plain": [
       "<IPython.core.display.HTML object>"
      ]
     },
     "metadata": {},
     "output_type": "display_data"
    },
    {
     "name": "stdout",
     "output_type": "stream",
     "text": [
      "config {'batch_size': 48, 'epochs': 20, 'fc_layer_size': 512, 'learning_rate': 0.0008691677716041489, 'optimizer': 'adam'}\n",
      "Epoch 0 avg loss: 23.189821464674814 accuracy: 0.3333333333333333\n",
      "Epoch 1 avg loss: 4.156642879758563 accuracy: 0.5866666666666667\n",
      "Epoch 2 avg loss: 1.0022020850862776 accuracy: 0.7966666666666666\n",
      "Epoch 3 avg loss: 0.6104470065661839 accuracy: 0.9233333333333333\n",
      "Epoch 4 avg loss: 0.26383226471287863 accuracy: 0.96\n",
      "Epoch 5 avg loss: 0.08607327432504722 accuracy: 0.9833333333333333\n",
      "Epoch 6 avg loss: 0.060728385778410096 accuracy: 0.9966666666666667\n",
      "Epoch 7 avg loss: 0.02522175240197352 accuracy: 1.0\n",
      "Epoch 8 avg loss: 0.01503553900069424 accuracy: 1.0\n",
      "Epoch 9 avg loss: 0.00902516468028937 accuracy: 1.0\n",
      "Epoch 10 avg loss: 0.005856897681951523 accuracy: 1.0\n",
      "Epoch 11 avg loss: 0.004270538720967514 accuracy: 1.0\n",
      "Epoch 12 avg loss: 0.003265731834939548 accuracy: 1.0\n",
      "Epoch 13 avg loss: 0.002419661115189748 accuracy: 1.0\n",
      "Epoch 14 avg loss: 0.001740208693913051 accuracy: 1.0\n",
      "Epoch 15 avg loss: 0.0014031159807927907 accuracy: 1.0\n",
      "Epoch 16 avg loss: 0.0012772477680950292 accuracy: 1.0\n",
      "Epoch 17 avg loss: 0.0010444886034487613 accuracy: 1.0\n",
      "Epoch 18 avg loss: 0.0009144890354946256 accuracy: 1.0\n",
      "Epoch 19 avg loss: 0.0008383490910221424 accuracy: 1.0\n"
     ]
    },
    {
     "data": {
      "text/html": [
       "<style>\n",
       "    table.wandb td:nth-child(1) { padding: 0 10px; text-align: left ; width: auto;} td:nth-child(2) {text-align: left ; width: 100%}\n",
       "    .wandb-row { display: flex; flex-direction: row; flex-wrap: wrap; justify-content: flex-start; width: 100% }\n",
       "    .wandb-col { display: flex; flex-direction: column; flex-basis: 100%; flex: 1; padding: 10px; }\n",
       "    </style>\n",
       "<div class=\"wandb-row\"><div class=\"wandb-col\"><h3>Run history:</h3><br/><table class=\"wandb\"><tr><td>accuracy</td><td>▁▄▆▇████████████████</td></tr><tr><td>batch loss</td><td>█▅▃▂▁▁▁▁▁▁▁▁▁▁▁▁▁▁▁▁▁▁▁▁▁▁▁▁▁▁▁▁▁▁▁▁▁▁▁▁</td></tr><tr><td>epoch</td><td>▁▁▂▂▂▃▃▄▄▄▅▅▅▆▆▇▇▇██</td></tr><tr><td>loss</td><td>█▂▁▁▁▁▁▁▁▁▁▁▁▁▁▁▁▁▁▁</td></tr></table><br/></div><div class=\"wandb-col\"><h3>Run summary:</h3><br/><table class=\"wandb\"><tr><td>accuracy</td><td>1.0</td></tr><tr><td>batch loss</td><td>0.00121</td></tr><tr><td>epoch</td><td>19</td></tr><tr><td>loss</td><td>0.00084</td></tr></table><br/></div></div>"
      ],
      "text/plain": [
       "<IPython.core.display.HTML object>"
      ]
     },
     "metadata": {},
     "output_type": "display_data"
    },
    {
     "data": {
      "text/html": [
       " View run <strong style=\"color:#cdcd00\">ancient-sweep-17</strong> at: <a href='https://wandb.ai/nguyen/pytorch-sweeps-demo/runs/9parihd1' target=\"_blank\">https://wandb.ai/nguyen/pytorch-sweeps-demo/runs/9parihd1</a><br/>Synced 6 W&B file(s), 0 media file(s), 0 artifact file(s) and 0 other file(s)"
      ],
      "text/plain": [
       "<IPython.core.display.HTML object>"
      ]
     },
     "metadata": {},
     "output_type": "display_data"
    },
    {
     "data": {
      "text/html": [
       "Find logs at: <code>.\\wandb\\run-20231119_124255-9parihd1\\logs</code>"
      ],
      "text/plain": [
       "<IPython.core.display.HTML object>"
      ]
     },
     "metadata": {},
     "output_type": "display_data"
    },
    {
     "name": "stderr",
     "output_type": "stream",
     "text": [
      "\u001b[34m\u001b[1mwandb\u001b[0m: Agent Starting Run: lpfr3k4u with config:\n",
      "\u001b[34m\u001b[1mwandb\u001b[0m: \tbatch_size: 56\n",
      "\u001b[34m\u001b[1mwandb\u001b[0m: \tepochs: 30\n",
      "\u001b[34m\u001b[1mwandb\u001b[0m: \tfc_layer_size: 128\n",
      "\u001b[34m\u001b[1mwandb\u001b[0m: \tlearning_rate: 0.00042389152465552673\n",
      "\u001b[34m\u001b[1mwandb\u001b[0m: \toptimizer: sgd\n",
      "Failed to detect the name of this notebook, you can set it manually with the WANDB_NOTEBOOK_NAME environment variable to enable code saving.\n"
     ]
    },
    {
     "data": {
      "text/html": [
       "Tracking run with wandb version 0.16.0"
      ],
      "text/plain": [
       "<IPython.core.display.HTML object>"
      ]
     },
     "metadata": {},
     "output_type": "display_data"
    },
    {
     "data": {
      "text/html": [
       "Run data is saved locally in <code>d:\\pnstack\\template-pytorch-model\\wandb\\run-20231119_124404-lpfr3k4u</code>"
      ],
      "text/plain": [
       "<IPython.core.display.HTML object>"
      ]
     },
     "metadata": {},
     "output_type": "display_data"
    },
    {
     "data": {
      "text/html": [
       "Syncing run <strong><a href='https://wandb.ai/nguyen/pytorch-sweeps-demo/runs/lpfr3k4u' target=\"_blank\">iconic-sweep-18</a></strong> to <a href='https://wandb.ai/nguyen/pytorch-sweeps-demo' target=\"_blank\">Weights & Biases</a> (<a href='https://wandb.me/run' target=\"_blank\">docs</a>)<br/>Sweep page: <a href='https://wandb.ai/nguyen/pytorch-sweeps-demo/sweeps/04b419v1' target=\"_blank\">https://wandb.ai/nguyen/pytorch-sweeps-demo/sweeps/04b419v1</a>"
      ],
      "text/plain": [
       "<IPython.core.display.HTML object>"
      ]
     },
     "metadata": {},
     "output_type": "display_data"
    },
    {
     "data": {
      "text/html": [
       " View project at <a href='https://wandb.ai/nguyen/pytorch-sweeps-demo' target=\"_blank\">https://wandb.ai/nguyen/pytorch-sweeps-demo</a>"
      ],
      "text/plain": [
       "<IPython.core.display.HTML object>"
      ]
     },
     "metadata": {},
     "output_type": "display_data"
    },
    {
     "data": {
      "text/html": [
       " View sweep at <a href='https://wandb.ai/nguyen/pytorch-sweeps-demo/sweeps/04b419v1' target=\"_blank\">https://wandb.ai/nguyen/pytorch-sweeps-demo/sweeps/04b419v1</a>"
      ],
      "text/plain": [
       "<IPython.core.display.HTML object>"
      ]
     },
     "metadata": {},
     "output_type": "display_data"
    },
    {
     "data": {
      "text/html": [
       " View run at <a href='https://wandb.ai/nguyen/pytorch-sweeps-demo/runs/lpfr3k4u' target=\"_blank\">https://wandb.ai/nguyen/pytorch-sweeps-demo/runs/lpfr3k4u</a>"
      ],
      "text/plain": [
       "<IPython.core.display.HTML object>"
      ]
     },
     "metadata": {},
     "output_type": "display_data"
    },
    {
     "name": "stdout",
     "output_type": "stream",
     "text": [
      "config {'batch_size': 56, 'epochs': 30, 'fc_layer_size': 128, 'learning_rate': 0.00042389152465552673, 'optimizer': 'sgd'}\n",
      "Epoch 0 avg loss: 1.141765574614207 accuracy: 0.49\n",
      "Epoch 1 avg loss: 1.1230769356091816 accuracy: 0.3333333333333333\n",
      "Epoch 2 avg loss: 1.049029032389323 accuracy: 0.53\n",
      "Epoch 3 avg loss: 0.9484340250492096 accuracy: 0.46\n",
      "Epoch 4 avg loss: 0.9067074557145437 accuracy: 0.5166666666666667\n",
      "Epoch 5 avg loss: 0.8592233955860138 accuracy: 0.59\n",
      "Epoch 6 avg loss: 0.8290746410687765 accuracy: 0.6166666666666667\n",
      "Epoch 7 avg loss: 0.8581298490365347 accuracy: 0.7566666666666667\n",
      "Epoch 8 avg loss: 0.7249292035897573 accuracy: 0.6266666666666667\n",
      "Epoch 9 avg loss: 0.7328273256619772 accuracy: 0.62\n",
      "Epoch 10 avg loss: 0.7127668857574463 accuracy: 0.6333333333333333\n",
      "Epoch 11 avg loss: 0.6466928323109945 accuracy: 0.7133333333333334\n",
      "Epoch 12 avg loss: 0.6954842209815979 accuracy: 0.63\n",
      "Epoch 13 avg loss: 0.6739059487978617 accuracy: 0.6433333333333333\n",
      "Epoch 14 avg loss: 0.7367656429608663 accuracy: 0.82\n",
      "Epoch 15 avg loss: 0.6787946025530497 accuracy: 0.8466666666666667\n",
      "Epoch 16 avg loss: 0.5296715696652731 accuracy: 0.87\n",
      "Epoch 17 avg loss: 0.48295746246973675 accuracy: 0.8033333333333333\n",
      "Epoch 18 avg loss: 0.4727915773789088 accuracy: 0.9\n",
      "Epoch 19 avg loss: 0.47785769402980804 accuracy: 0.9133333333333333\n",
      "Epoch 20 avg loss: 0.51861871778965 accuracy: 0.86\n",
      "Epoch 21 avg loss: 0.4742235292991002 accuracy: 0.8866666666666667\n",
      "Epoch 22 avg loss: 0.403715858856837 accuracy: 0.8766666666666667\n",
      "Epoch 23 avg loss: 0.4003177136182785 accuracy: 0.9366666666666666\n",
      "Epoch 24 avg loss: 0.3889174660046895 accuracy: 0.9166666666666666\n",
      "Epoch 25 avg loss: 0.36969784398873645 accuracy: 0.8566666666666667\n",
      "Epoch 26 avg loss: 0.3629845231771469 accuracy: 0.8066666666666666\n",
      "Epoch 27 avg loss: 0.35339390983184177 accuracy: 0.8833333333333333\n",
      "Epoch 28 avg loss: 0.3571459501981735 accuracy: 0.9066666666666666\n",
      "Epoch 29 avg loss: 0.30644650757312775 accuracy: 0.9466666666666667\n"
     ]
    },
    {
     "data": {
      "text/html": [
       "<style>\n",
       "    table.wandb td:nth-child(1) { padding: 0 10px; text-align: left ; width: auto;} td:nth-child(2) {text-align: left ; width: 100%}\n",
       "    .wandb-row { display: flex; flex-direction: row; flex-wrap: wrap; justify-content: flex-start; width: 100% }\n",
       "    .wandb-col { display: flex; flex-direction: column; flex-basis: 100%; flex: 1; padding: 10px; }\n",
       "    </style>\n",
       "<div class=\"wandb-row\"><div class=\"wandb-col\"><h3>Run history:</h3><br/><table class=\"wandb\"><tr><td>accuracy</td><td>▃▁▃▂▃▄▄▆▄▄▄▅▄▅▇▇▇▆▇█▇▇▇██▇▆▇██</td></tr><tr><td>batch loss</td><td>▇██▇▆▅▅▅▅▅▆▄▄▃▅▄▅▃▃▃▆▄▃▃▂▂▄▃▃▂▂▁▁▂▂▁▂▁▂▁</td></tr><tr><td>epoch</td><td>▁▁▁▂▂▂▂▃▃▃▃▄▄▄▄▅▅▅▅▆▆▆▆▇▇▇▇███</td></tr><tr><td>loss</td><td>██▇▆▆▆▅▆▅▅▄▄▄▄▅▄▃▂▂▂▃▂▂▂▂▂▁▁▁▁</td></tr></table><br/></div><div class=\"wandb-col\"><h3>Run summary:</h3><br/><table class=\"wandb\"><tr><td>accuracy</td><td>0.94667</td></tr><tr><td>batch loss</td><td>0.29488</td></tr><tr><td>epoch</td><td>29</td></tr><tr><td>loss</td><td>0.30645</td></tr></table><br/></div></div>"
      ],
      "text/plain": [
       "<IPython.core.display.HTML object>"
      ]
     },
     "metadata": {},
     "output_type": "display_data"
    },
    {
     "data": {
      "text/html": [
       " View run <strong style=\"color:#cdcd00\">iconic-sweep-18</strong> at: <a href='https://wandb.ai/nguyen/pytorch-sweeps-demo/runs/lpfr3k4u' target=\"_blank\">https://wandb.ai/nguyen/pytorch-sweeps-demo/runs/lpfr3k4u</a><br/>Synced 6 W&B file(s), 0 media file(s), 0 artifact file(s) and 0 other file(s)"
      ],
      "text/plain": [
       "<IPython.core.display.HTML object>"
      ]
     },
     "metadata": {},
     "output_type": "display_data"
    },
    {
     "data": {
      "text/html": [
       "Find logs at: <code>.\\wandb\\run-20231119_124404-lpfr3k4u\\logs</code>"
      ],
      "text/plain": [
       "<IPython.core.display.HTML object>"
      ]
     },
     "metadata": {},
     "output_type": "display_data"
    },
    {
     "name": "stderr",
     "output_type": "stream",
     "text": [
      "\u001b[34m\u001b[1mwandb\u001b[0m: Agent Starting Run: kvd5n6ly with config:\n",
      "\u001b[34m\u001b[1mwandb\u001b[0m: \tbatch_size: 56\n",
      "\u001b[34m\u001b[1mwandb\u001b[0m: \tepochs: 30\n",
      "\u001b[34m\u001b[1mwandb\u001b[0m: \tfc_layer_size: 128\n",
      "\u001b[34m\u001b[1mwandb\u001b[0m: \tlearning_rate: 0.0003533606312141685\n",
      "\u001b[34m\u001b[1mwandb\u001b[0m: \toptimizer: adam\n",
      "Failed to detect the name of this notebook, you can set it manually with the WANDB_NOTEBOOK_NAME environment variable to enable code saving.\n"
     ]
    },
    {
     "data": {
      "text/html": [
       "Tracking run with wandb version 0.16.0"
      ],
      "text/plain": [
       "<IPython.core.display.HTML object>"
      ]
     },
     "metadata": {},
     "output_type": "display_data"
    },
    {
     "data": {
      "text/html": [
       "Run data is saved locally in <code>d:\\pnstack\\template-pytorch-model\\wandb\\run-20231119_124507-kvd5n6ly</code>"
      ],
      "text/plain": [
       "<IPython.core.display.HTML object>"
      ]
     },
     "metadata": {},
     "output_type": "display_data"
    },
    {
     "data": {
      "text/html": [
       "Syncing run <strong><a href='https://wandb.ai/nguyen/pytorch-sweeps-demo/runs/kvd5n6ly' target=\"_blank\">lemon-sweep-19</a></strong> to <a href='https://wandb.ai/nguyen/pytorch-sweeps-demo' target=\"_blank\">Weights & Biases</a> (<a href='https://wandb.me/run' target=\"_blank\">docs</a>)<br/>Sweep page: <a href='https://wandb.ai/nguyen/pytorch-sweeps-demo/sweeps/04b419v1' target=\"_blank\">https://wandb.ai/nguyen/pytorch-sweeps-demo/sweeps/04b419v1</a>"
      ],
      "text/plain": [
       "<IPython.core.display.HTML object>"
      ]
     },
     "metadata": {},
     "output_type": "display_data"
    },
    {
     "data": {
      "text/html": [
       " View project at <a href='https://wandb.ai/nguyen/pytorch-sweeps-demo' target=\"_blank\">https://wandb.ai/nguyen/pytorch-sweeps-demo</a>"
      ],
      "text/plain": [
       "<IPython.core.display.HTML object>"
      ]
     },
     "metadata": {},
     "output_type": "display_data"
    },
    {
     "data": {
      "text/html": [
       " View sweep at <a href='https://wandb.ai/nguyen/pytorch-sweeps-demo/sweeps/04b419v1' target=\"_blank\">https://wandb.ai/nguyen/pytorch-sweeps-demo/sweeps/04b419v1</a>"
      ],
      "text/plain": [
       "<IPython.core.display.HTML object>"
      ]
     },
     "metadata": {},
     "output_type": "display_data"
    },
    {
     "data": {
      "text/html": [
       " View run at <a href='https://wandb.ai/nguyen/pytorch-sweeps-demo/runs/kvd5n6ly' target=\"_blank\">https://wandb.ai/nguyen/pytorch-sweeps-demo/runs/kvd5n6ly</a>"
      ],
      "text/plain": [
       "<IPython.core.display.HTML object>"
      ]
     },
     "metadata": {},
     "output_type": "display_data"
    },
    {
     "name": "stdout",
     "output_type": "stream",
     "text": [
      "config {'batch_size': 56, 'epochs': 30, 'fc_layer_size': 128, 'learning_rate': 0.0003533606312141685, 'optimizer': 'adam'}\n",
      "Epoch 0 avg loss: 8.8782506386439 accuracy: 0.3333333333333333\n",
      "Epoch 1 avg loss: 6.142873128255208 accuracy: 0.3333333333333333\n",
      "Epoch 2 avg loss: 1.8792900641759236 accuracy: 0.5333333333333333\n",
      "Epoch 3 avg loss: 1.0002707540988922 accuracy: 0.64\n",
      "Epoch 4 avg loss: 0.8480664590994517 accuracy: 0.7966666666666666\n",
      "Epoch 5 avg loss: 0.7723897099494934 accuracy: 0.8866666666666667\n",
      "Epoch 6 avg loss: 0.689070055882136 accuracy: 0.8433333333333334\n",
      "Epoch 7 avg loss: 0.6237246791521708 accuracy: 0.6333333333333333\n",
      "Epoch 8 avg loss: 0.6534788558880488 accuracy: 0.8466666666666667\n",
      "Epoch 9 avg loss: 0.5348540345827738 accuracy: 0.91\n",
      "Epoch 10 avg loss: 0.4443417737881343 accuracy: 0.9166666666666666\n",
      "Epoch 11 avg loss: 0.37029461065928143 accuracy: 0.9466666666666667\n",
      "Epoch 12 avg loss: 0.31984057029088336 accuracy: 0.9566666666666667\n",
      "Epoch 13 avg loss: 0.2603686799605687 accuracy: 0.96\n",
      "Epoch 14 avg loss: 0.26411910603443783 accuracy: 0.9733333333333334\n",
      "Epoch 15 avg loss: 0.2088764881094297 accuracy: 0.9733333333333334\n",
      "Epoch 16 avg loss: 0.16888243953386942 accuracy: 0.9833333333333333\n",
      "Epoch 17 avg loss: 0.1484000434478124 accuracy: 0.9933333333333333\n",
      "Epoch 18 avg loss: 0.13570102800925574 accuracy: 0.99\n",
      "Epoch 19 avg loss: 0.12752345825235048 accuracy: 0.9933333333333333\n",
      "Epoch 20 avg loss: 0.10557452961802483 accuracy: 0.9933333333333333\n",
      "Epoch 21 avg loss: 0.09049654006958008 accuracy: 0.9966666666666667\n",
      "Epoch 22 avg loss: 0.07641533762216568 accuracy: 0.9966666666666667\n",
      "Epoch 23 avg loss: 0.0705851074308157 accuracy: 1.0\n",
      "Epoch 24 avg loss: 0.06503975080947082 accuracy: 1.0\n",
      "Epoch 25 avg loss: 0.06235989493628343 accuracy: 1.0\n",
      "Epoch 26 avg loss: 0.05170226159195105 accuracy: 1.0\n",
      "Epoch 27 avg loss: 0.05299911399682363 accuracy: 1.0\n",
      "Epoch 28 avg loss: 0.04441701558729013 accuracy: 1.0\n",
      "Epoch 29 avg loss: 0.039107621957858406 accuracy: 1.0\n"
     ]
    },
    {
     "data": {
      "text/html": [
       "<style>\n",
       "    table.wandb td:nth-child(1) { padding: 0 10px; text-align: left ; width: auto;} td:nth-child(2) {text-align: left ; width: 100%}\n",
       "    .wandb-row { display: flex; flex-direction: row; flex-wrap: wrap; justify-content: flex-start; width: 100% }\n",
       "    .wandb-col { display: flex; flex-direction: column; flex-basis: 100%; flex: 1; padding: 10px; }\n",
       "    </style>\n",
       "<div class=\"wandb-row\"><div class=\"wandb-col\"><h3>Run history:</h3><br/><table class=\"wandb\"><tr><td>accuracy</td><td>▁▁▃▄▆▇▆▄▆▇▇▇██████████████████</td></tr><tr><td>batch loss</td><td>█▅▃▂▁▁▁▁▁▁▁▁▁▁▁▁▁▁▁▁▁▁▁▁▁▁▁▁▁▁▁▁▁▁▁▁▁▁▁▁</td></tr><tr><td>epoch</td><td>▁▁▁▂▂▂▂▃▃▃▃▄▄▄▄▅▅▅▅▆▆▆▆▇▇▇▇███</td></tr><tr><td>loss</td><td>█▆▂▂▂▂▂▁▁▁▁▁▁▁▁▁▁▁▁▁▁▁▁▁▁▁▁▁▁▁</td></tr></table><br/></div><div class=\"wandb-col\"><h3>Run summary:</h3><br/><table class=\"wandb\"><tr><td>accuracy</td><td>1.0</td></tr><tr><td>batch loss</td><td>0.03568</td></tr><tr><td>epoch</td><td>29</td></tr><tr><td>loss</td><td>0.03911</td></tr></table><br/></div></div>"
      ],
      "text/plain": [
       "<IPython.core.display.HTML object>"
      ]
     },
     "metadata": {},
     "output_type": "display_data"
    },
    {
     "data": {
      "text/html": [
       " View run <strong style=\"color:#cdcd00\">lemon-sweep-19</strong> at: <a href='https://wandb.ai/nguyen/pytorch-sweeps-demo/runs/kvd5n6ly' target=\"_blank\">https://wandb.ai/nguyen/pytorch-sweeps-demo/runs/kvd5n6ly</a><br/>Synced 6 W&B file(s), 0 media file(s), 0 artifact file(s) and 0 other file(s)"
      ],
      "text/plain": [
       "<IPython.core.display.HTML object>"
      ]
     },
     "metadata": {},
     "output_type": "display_data"
    },
    {
     "data": {
      "text/html": [
       "Find logs at: <code>.\\wandb\\run-20231119_124507-kvd5n6ly\\logs</code>"
      ],
      "text/plain": [
       "<IPython.core.display.HTML object>"
      ]
     },
     "metadata": {},
     "output_type": "display_data"
    },
    {
     "name": "stderr",
     "output_type": "stream",
     "text": [
      "\u001b[34m\u001b[1mwandb\u001b[0m: Agent Starting Run: xe47s3uo with config:\n",
      "\u001b[34m\u001b[1mwandb\u001b[0m: \tbatch_size: 56\n",
      "\u001b[34m\u001b[1mwandb\u001b[0m: \tepochs: 20\n",
      "\u001b[34m\u001b[1mwandb\u001b[0m: \tfc_layer_size: 512\n",
      "\u001b[34m\u001b[1mwandb\u001b[0m: \tlearning_rate: 0.0007164918893058567\n",
      "\u001b[34m\u001b[1mwandb\u001b[0m: \toptimizer: adam\n",
      "Failed to detect the name of this notebook, you can set it manually with the WANDB_NOTEBOOK_NAME environment variable to enable code saving.\n"
     ]
    },
    {
     "data": {
      "text/html": [
       "Tracking run with wandb version 0.16.0"
      ],
      "text/plain": [
       "<IPython.core.display.HTML object>"
      ]
     },
     "metadata": {},
     "output_type": "display_data"
    },
    {
     "data": {
      "text/html": [
       "Run data is saved locally in <code>d:\\pnstack\\template-pytorch-model\\wandb\\run-20231119_124559-xe47s3uo</code>"
      ],
      "text/plain": [
       "<IPython.core.display.HTML object>"
      ]
     },
     "metadata": {},
     "output_type": "display_data"
    },
    {
     "data": {
      "text/html": [
       "Syncing run <strong><a href='https://wandb.ai/nguyen/pytorch-sweeps-demo/runs/xe47s3uo' target=\"_blank\">resilient-sweep-20</a></strong> to <a href='https://wandb.ai/nguyen/pytorch-sweeps-demo' target=\"_blank\">Weights & Biases</a> (<a href='https://wandb.me/run' target=\"_blank\">docs</a>)<br/>Sweep page: <a href='https://wandb.ai/nguyen/pytorch-sweeps-demo/sweeps/04b419v1' target=\"_blank\">https://wandb.ai/nguyen/pytorch-sweeps-demo/sweeps/04b419v1</a>"
      ],
      "text/plain": [
       "<IPython.core.display.HTML object>"
      ]
     },
     "metadata": {},
     "output_type": "display_data"
    },
    {
     "data": {
      "text/html": [
       " View project at <a href='https://wandb.ai/nguyen/pytorch-sweeps-demo' target=\"_blank\">https://wandb.ai/nguyen/pytorch-sweeps-demo</a>"
      ],
      "text/plain": [
       "<IPython.core.display.HTML object>"
      ]
     },
     "metadata": {},
     "output_type": "display_data"
    },
    {
     "data": {
      "text/html": [
       " View sweep at <a href='https://wandb.ai/nguyen/pytorch-sweeps-demo/sweeps/04b419v1' target=\"_blank\">https://wandb.ai/nguyen/pytorch-sweeps-demo/sweeps/04b419v1</a>"
      ],
      "text/plain": [
       "<IPython.core.display.HTML object>"
      ]
     },
     "metadata": {},
     "output_type": "display_data"
    },
    {
     "data": {
      "text/html": [
       " View run at <a href='https://wandb.ai/nguyen/pytorch-sweeps-demo/runs/xe47s3uo' target=\"_blank\">https://wandb.ai/nguyen/pytorch-sweeps-demo/runs/xe47s3uo</a>"
      ],
      "text/plain": [
       "<IPython.core.display.HTML object>"
      ]
     },
     "metadata": {},
     "output_type": "display_data"
    },
    {
     "name": "stdout",
     "output_type": "stream",
     "text": [
      "config {'batch_size': 56, 'epochs': 20, 'fc_layer_size': 512, 'learning_rate': 0.0007164918893058567, 'optimizer': 'adam'}\n",
      "Epoch 0 avg loss: 21.097003559271496 accuracy: 0.3333333333333333\n",
      "Epoch 1 avg loss: 8.979135831197103 accuracy: 0.48\n",
      "Epoch 2 avg loss: 1.714256763458252 accuracy: 0.8\n",
      "Epoch 3 avg loss: 0.6613829284906387 accuracy: 0.8566666666666667\n",
      "Epoch 4 avg loss: 0.3881495421131452 accuracy: 0.92\n",
      "Epoch 5 avg loss: 0.19398833066225052 accuracy: 0.98\n",
      "Epoch 6 avg loss: 0.094280360887448 accuracy: 0.99\n",
      "Epoch 7 avg loss: 0.05528533272445202 accuracy: 1.0\n",
      "Epoch 8 avg loss: 0.03186585272972783 accuracy: 1.0\n",
      "Epoch 9 avg loss: 0.02202181549121936 accuracy: 1.0\n",
      "Epoch 10 avg loss: 0.016489530137429636 accuracy: 1.0\n",
      "Epoch 11 avg loss: 0.01238373527303338 accuracy: 1.0\n",
      "Epoch 12 avg loss: 0.009886953514069319 accuracy: 1.0\n",
      "Epoch 13 avg loss: 0.007876263776173195 accuracy: 1.0\n",
      "Epoch 14 avg loss: 0.0069107474604000645 accuracy: 1.0\n",
      "Epoch 15 avg loss: 0.00601344268458585 accuracy: 1.0\n",
      "Epoch 16 avg loss: 0.0048792791009570164 accuracy: 1.0\n",
      "Epoch 17 avg loss: 0.004404674905041854 accuracy: 1.0\n",
      "Epoch 18 avg loss: 0.004287012581092616 accuracy: 1.0\n",
      "Epoch 19 avg loss: 0.0034822459371450045 accuracy: 1.0\n"
     ]
    },
    {
     "data": {
      "text/html": [
       "<style>\n",
       "    table.wandb td:nth-child(1) { padding: 0 10px; text-align: left ; width: auto;} td:nth-child(2) {text-align: left ; width: 100%}\n",
       "    .wandb-row { display: flex; flex-direction: row; flex-wrap: wrap; justify-content: flex-start; width: 100% }\n",
       "    .wandb-col { display: flex; flex-direction: column; flex-basis: 100%; flex: 1; padding: 10px; }\n",
       "    </style>\n",
       "<div class=\"wandb-row\"><div class=\"wandb-col\"><h3>Run history:</h3><br/><table class=\"wandb\"><tr><td>accuracy</td><td>▁▃▆▆▇███████████████</td></tr><tr><td>batch loss</td><td>▁▄█▂▂▁▁▁▁▁▁▁▁▁▁▁▁▁▁▁▁▁▁▁▁▁▁▁▁▁▁▁▁▁▁▁▁▁▁▁</td></tr><tr><td>epoch</td><td>▁▁▂▂▂▃▃▄▄▄▅▅▅▆▆▇▇▇██</td></tr><tr><td>loss</td><td>█▄▂▁▁▁▁▁▁▁▁▁▁▁▁▁▁▁▁▁</td></tr></table><br/></div><div class=\"wandb-col\"><h3>Run summary:</h3><br/><table class=\"wandb\"><tr><td>accuracy</td><td>1.0</td></tr><tr><td>batch loss</td><td>0.00167</td></tr><tr><td>epoch</td><td>19</td></tr><tr><td>loss</td><td>0.00348</td></tr></table><br/></div></div>"
      ],
      "text/plain": [
       "<IPython.core.display.HTML object>"
      ]
     },
     "metadata": {},
     "output_type": "display_data"
    },
    {
     "data": {
      "text/html": [
       " View run <strong style=\"color:#cdcd00\">resilient-sweep-20</strong> at: <a href='https://wandb.ai/nguyen/pytorch-sweeps-demo/runs/xe47s3uo' target=\"_blank\">https://wandb.ai/nguyen/pytorch-sweeps-demo/runs/xe47s3uo</a><br/>Synced 6 W&B file(s), 0 media file(s), 0 artifact file(s) and 0 other file(s)"
      ],
      "text/plain": [
       "<IPython.core.display.HTML object>"
      ]
     },
     "metadata": {},
     "output_type": "display_data"
    },
    {
     "data": {
      "text/html": [
       "Find logs at: <code>.\\wandb\\run-20231119_124559-xe47s3uo\\logs</code>"
      ],
      "text/plain": [
       "<IPython.core.display.HTML object>"
      ]
     },
     "metadata": {},
     "output_type": "display_data"
    },
    {
     "name": "stderr",
     "output_type": "stream",
     "text": [
      "\u001b[34m\u001b[1mwandb\u001b[0m: Agent Starting Run: ovv505e8 with config:\n",
      "\u001b[34m\u001b[1mwandb\u001b[0m: \tbatch_size: 88\n",
      "\u001b[34m\u001b[1mwandb\u001b[0m: \tepochs: 30\n",
      "\u001b[34m\u001b[1mwandb\u001b[0m: \tfc_layer_size: 128\n",
      "\u001b[34m\u001b[1mwandb\u001b[0m: \tlearning_rate: 0.00021448417122899312\n",
      "\u001b[34m\u001b[1mwandb\u001b[0m: \toptimizer: adam\n",
      "Failed to detect the name of this notebook, you can set it manually with the WANDB_NOTEBOOK_NAME environment variable to enable code saving.\n"
     ]
    },
    {
     "data": {
      "text/html": [
       "Tracking run with wandb version 0.16.0"
      ],
      "text/plain": [
       "<IPython.core.display.HTML object>"
      ]
     },
     "metadata": {},
     "output_type": "display_data"
    },
    {
     "data": {
      "text/html": [
       "Run data is saved locally in <code>d:\\pnstack\\template-pytorch-model\\wandb\\run-20231119_124705-ovv505e8</code>"
      ],
      "text/plain": [
       "<IPython.core.display.HTML object>"
      ]
     },
     "metadata": {},
     "output_type": "display_data"
    },
    {
     "data": {
      "text/html": [
       "Syncing run <strong><a href='https://wandb.ai/nguyen/pytorch-sweeps-demo/runs/ovv505e8' target=\"_blank\">skilled-sweep-21</a></strong> to <a href='https://wandb.ai/nguyen/pytorch-sweeps-demo' target=\"_blank\">Weights & Biases</a> (<a href='https://wandb.me/run' target=\"_blank\">docs</a>)<br/>Sweep page: <a href='https://wandb.ai/nguyen/pytorch-sweeps-demo/sweeps/04b419v1' target=\"_blank\">https://wandb.ai/nguyen/pytorch-sweeps-demo/sweeps/04b419v1</a>"
      ],
      "text/plain": [
       "<IPython.core.display.HTML object>"
      ]
     },
     "metadata": {},
     "output_type": "display_data"
    },
    {
     "data": {
      "text/html": [
       " View project at <a href='https://wandb.ai/nguyen/pytorch-sweeps-demo' target=\"_blank\">https://wandb.ai/nguyen/pytorch-sweeps-demo</a>"
      ],
      "text/plain": [
       "<IPython.core.display.HTML object>"
      ]
     },
     "metadata": {},
     "output_type": "display_data"
    },
    {
     "data": {
      "text/html": [
       " View sweep at <a href='https://wandb.ai/nguyen/pytorch-sweeps-demo/sweeps/04b419v1' target=\"_blank\">https://wandb.ai/nguyen/pytorch-sweeps-demo/sweeps/04b419v1</a>"
      ],
      "text/plain": [
       "<IPython.core.display.HTML object>"
      ]
     },
     "metadata": {},
     "output_type": "display_data"
    },
    {
     "data": {
      "text/html": [
       " View run at <a href='https://wandb.ai/nguyen/pytorch-sweeps-demo/runs/ovv505e8' target=\"_blank\">https://wandb.ai/nguyen/pytorch-sweeps-demo/runs/ovv505e8</a>"
      ],
      "text/plain": [
       "<IPython.core.display.HTML object>"
      ]
     },
     "metadata": {},
     "output_type": "display_data"
    },
    {
     "name": "stdout",
     "output_type": "stream",
     "text": [
      "config {'batch_size': 88, 'epochs': 30, 'fc_layer_size': 128, 'learning_rate': 0.00021448417122899312, 'optimizer': 'adam'}\n",
      "Epoch 0 avg loss: 2.2713590562343597 accuracy: 0.3333333333333333\n",
      "Epoch 1 avg loss: 1.5385897755622864 accuracy: 0.47333333333333333\n",
      "Epoch 2 avg loss: 1.0225611180067062 accuracy: 0.7666666666666667\n",
      "Epoch 3 avg loss: 0.6768706738948822 accuracy: 0.67\n",
      "Epoch 4 avg loss: 0.4895991384983063 accuracy: 0.79\n",
      "Epoch 5 avg loss: 0.494314469397068 accuracy: 0.86\n",
      "Epoch 6 avg loss: 0.3458218574523926 accuracy: 0.9466666666666667\n",
      "Epoch 7 avg loss: 0.2888553664088249 accuracy: 0.9533333333333334\n",
      "Epoch 8 avg loss: 0.25738342478871346 accuracy: 0.97\n",
      "Epoch 9 avg loss: 0.23035451397299767 accuracy: 0.98\n",
      "Epoch 10 avg loss: 0.17794525995850563 accuracy: 0.98\n",
      "Epoch 11 avg loss: 0.1595357395708561 accuracy: 0.9933333333333333\n",
      "Epoch 12 avg loss: 0.14098594896495342 accuracy: 0.9966666666666667\n",
      "Epoch 13 avg loss: 0.12443776614964008 accuracy: 0.99\n",
      "Epoch 14 avg loss: 0.09649267792701721 accuracy: 0.9966666666666667\n",
      "Epoch 15 avg loss: 0.08876563981175423 accuracy: 1.0\n",
      "Epoch 16 avg loss: 0.07366624753922224 accuracy: 1.0\n",
      "Epoch 17 avg loss: 0.06427419278770685 accuracy: 1.0\n",
      "Epoch 18 avg loss: 0.06608270294964314 accuracy: 1.0\n",
      "Epoch 19 avg loss: 0.051105475053191185 accuracy: 1.0\n",
      "Epoch 20 avg loss: 0.04524620622396469 accuracy: 1.0\n",
      "Epoch 21 avg loss: 0.041278635151684284 accuracy: 1.0\n",
      "Epoch 22 avg loss: 0.036621700040996075 accuracy: 1.0\n",
      "Epoch 23 avg loss: 0.03415138786658645 accuracy: 1.0\n",
      "Epoch 24 avg loss: 0.029369852039963007 accuracy: 1.0\n",
      "Epoch 25 avg loss: 0.028842775151133537 accuracy: 1.0\n",
      "Epoch 26 avg loss: 0.025439209770411253 accuracy: 1.0\n",
      "Epoch 27 avg loss: 0.022133056074380875 accuracy: 1.0\n",
      "Epoch 28 avg loss: 0.021162125747650862 accuracy: 1.0\n",
      "Epoch 29 avg loss: 0.019226008094847202 accuracy: 1.0\n"
     ]
    },
    {
     "data": {
      "text/html": [
       "<style>\n",
       "    table.wandb td:nth-child(1) { padding: 0 10px; text-align: left ; width: auto;} td:nth-child(2) {text-align: left ; width: 100%}\n",
       "    .wandb-row { display: flex; flex-direction: row; flex-wrap: wrap; justify-content: flex-start; width: 100% }\n",
       "    .wandb-col { display: flex; flex-direction: column; flex-basis: 100%; flex: 1; padding: 10px; }\n",
       "    </style>\n",
       "<div class=\"wandb-row\"><div class=\"wandb-col\"><h3>Run history:</h3><br/><table class=\"wandb\"><tr><td>accuracy</td><td>▁▂▆▅▆▇▇███████████████████████</td></tr><tr><td>batch loss</td><td>▅█▅▅▃▄▃▃▂▂▂▂▂▂▂▁▂▁▁▁▁▁▁▁▁▁▁▁▁▁▁▁▁▁▁▁▁▁▁▁</td></tr><tr><td>epoch</td><td>▁▁▁▂▂▂▂▃▃▃▃▄▄▄▄▅▅▅▅▆▆▆▆▇▇▇▇███</td></tr><tr><td>loss</td><td>█▆▄▃▂▂▂▂▂▂▁▁▁▁▁▁▁▁▁▁▁▁▁▁▁▁▁▁▁▁</td></tr></table><br/></div><div class=\"wandb-col\"><h3>Run summary:</h3><br/><table class=\"wandb\"><tr><td>accuracy</td><td>1.0</td></tr><tr><td>batch loss</td><td>0.01911</td></tr><tr><td>epoch</td><td>29</td></tr><tr><td>loss</td><td>0.01923</td></tr></table><br/></div></div>"
      ],
      "text/plain": [
       "<IPython.core.display.HTML object>"
      ]
     },
     "metadata": {},
     "output_type": "display_data"
    },
    {
     "data": {
      "text/html": [
       " View run <strong style=\"color:#cdcd00\">skilled-sweep-21</strong> at: <a href='https://wandb.ai/nguyen/pytorch-sweeps-demo/runs/ovv505e8' target=\"_blank\">https://wandb.ai/nguyen/pytorch-sweeps-demo/runs/ovv505e8</a><br/>Synced 6 W&B file(s), 0 media file(s), 0 artifact file(s) and 0 other file(s)"
      ],
      "text/plain": [
       "<IPython.core.display.HTML object>"
      ]
     },
     "metadata": {},
     "output_type": "display_data"
    },
    {
     "data": {
      "text/html": [
       "Find logs at: <code>.\\wandb\\run-20231119_124705-ovv505e8\\logs</code>"
      ],
      "text/plain": [
       "<IPython.core.display.HTML object>"
      ]
     },
     "metadata": {},
     "output_type": "display_data"
    },
    {
     "name": "stderr",
     "output_type": "stream",
     "text": [
      "\u001b[34m\u001b[1mwandb\u001b[0m: Agent Starting Run: 7nq79spy with config:\n",
      "\u001b[34m\u001b[1mwandb\u001b[0m: \tbatch_size: 56\n",
      "\u001b[34m\u001b[1mwandb\u001b[0m: \tepochs: 20\n",
      "\u001b[34m\u001b[1mwandb\u001b[0m: \tfc_layer_size: 512\n",
      "\u001b[34m\u001b[1mwandb\u001b[0m: \tlearning_rate: 0.0008254408108368665\n",
      "\u001b[34m\u001b[1mwandb\u001b[0m: \toptimizer: adam\n",
      "Failed to detect the name of this notebook, you can set it manually with the WANDB_NOTEBOOK_NAME environment variable to enable code saving.\n"
     ]
    },
    {
     "data": {
      "text/html": [
       "Tracking run with wandb version 0.16.0"
      ],
      "text/plain": [
       "<IPython.core.display.HTML object>"
      ]
     },
     "metadata": {},
     "output_type": "display_data"
    },
    {
     "data": {
      "text/html": [
       "Run data is saved locally in <code>d:\\pnstack\\template-pytorch-model\\wandb\\run-20231119_124816-7nq79spy</code>"
      ],
      "text/plain": [
       "<IPython.core.display.HTML object>"
      ]
     },
     "metadata": {},
     "output_type": "display_data"
    },
    {
     "data": {
      "text/html": [
       "Syncing run <strong><a href='https://wandb.ai/nguyen/pytorch-sweeps-demo/runs/7nq79spy' target=\"_blank\">worldly-sweep-22</a></strong> to <a href='https://wandb.ai/nguyen/pytorch-sweeps-demo' target=\"_blank\">Weights & Biases</a> (<a href='https://wandb.me/run' target=\"_blank\">docs</a>)<br/>Sweep page: <a href='https://wandb.ai/nguyen/pytorch-sweeps-demo/sweeps/04b419v1' target=\"_blank\">https://wandb.ai/nguyen/pytorch-sweeps-demo/sweeps/04b419v1</a>"
      ],
      "text/plain": [
       "<IPython.core.display.HTML object>"
      ]
     },
     "metadata": {},
     "output_type": "display_data"
    },
    {
     "data": {
      "text/html": [
       " View project at <a href='https://wandb.ai/nguyen/pytorch-sweeps-demo' target=\"_blank\">https://wandb.ai/nguyen/pytorch-sweeps-demo</a>"
      ],
      "text/plain": [
       "<IPython.core.display.HTML object>"
      ]
     },
     "metadata": {},
     "output_type": "display_data"
    },
    {
     "data": {
      "text/html": [
       " View sweep at <a href='https://wandb.ai/nguyen/pytorch-sweeps-demo/sweeps/04b419v1' target=\"_blank\">https://wandb.ai/nguyen/pytorch-sweeps-demo/sweeps/04b419v1</a>"
      ],
      "text/plain": [
       "<IPython.core.display.HTML object>"
      ]
     },
     "metadata": {},
     "output_type": "display_data"
    },
    {
     "data": {
      "text/html": [
       " View run at <a href='https://wandb.ai/nguyen/pytorch-sweeps-demo/runs/7nq79spy' target=\"_blank\">https://wandb.ai/nguyen/pytorch-sweeps-demo/runs/7nq79spy</a>"
      ],
      "text/plain": [
       "<IPython.core.display.HTML object>"
      ]
     },
     "metadata": {},
     "output_type": "display_data"
    },
    {
     "name": "stdout",
     "output_type": "stream",
     "text": [
      "config {'batch_size': 56, 'epochs': 20, 'fc_layer_size': 512, 'learning_rate': 0.0008254408108368665, 'optimizer': 'adam'}\n",
      "Epoch 0 avg loss: 27.66898129383723 accuracy: 0.3333333333333333\n",
      "Epoch 1 avg loss: 9.323363661766052 accuracy: 0.5\n",
      "Epoch 2 avg loss: 2.2524943351745605 accuracy: 0.7766666666666666\n",
      "Epoch 3 avg loss: 0.8105225265026093 accuracy: 0.8166666666666667\n",
      "Epoch 4 avg loss: 0.5411851505438486 accuracy: 0.89\n",
      "Epoch 5 avg loss: 0.2956309914588928 accuracy: 0.9066666666666666\n",
      "Epoch 6 avg loss: 0.1902477921297153 accuracy: 0.9766666666666667\n",
      "Epoch 7 avg loss: 0.14215816914414367 accuracy: 0.99\n",
      "Epoch 8 avg loss: 0.03834336747725805 accuracy: 0.9833333333333333\n",
      "Epoch 9 avg loss: 0.0558641889753441 accuracy: 0.9966666666666667\n",
      "Epoch 10 avg loss: 0.03121470706537366 accuracy: 1.0\n",
      "Epoch 11 avg loss: 0.013721109523127476 accuracy: 1.0\n",
      "Epoch 12 avg loss: 0.009564602049067616 accuracy: 1.0\n",
      "Epoch 13 avg loss: 0.007269753919293483 accuracy: 1.0\n",
      "Epoch 14 avg loss: 0.004239639383740723 accuracy: 1.0\n",
      "Epoch 15 avg loss: 0.0034417912053565183 accuracy: 1.0\n",
      "Epoch 16 avg loss: 0.003068222004609803 accuracy: 1.0\n",
      "Epoch 17 avg loss: 0.0026892528403550386 accuracy: 1.0\n",
      "Epoch 18 avg loss: 0.0023329649896671376 accuracy: 1.0\n",
      "Epoch 19 avg loss: 0.0021909799931260445 accuracy: 1.0\n"
     ]
    },
    {
     "data": {
      "text/html": [
       "<style>\n",
       "    table.wandb td:nth-child(1) { padding: 0 10px; text-align: left ; width: auto;} td:nth-child(2) {text-align: left ; width: 100%}\n",
       "    .wandb-row { display: flex; flex-direction: row; flex-wrap: wrap; justify-content: flex-start; width: 100% }\n",
       "    .wandb-col { display: flex; flex-direction: column; flex-basis: 100%; flex: 1; padding: 10px; }\n",
       "    </style>\n",
       "<div class=\"wandb-row\"><div class=\"wandb-col\"><h3>Run history:</h3><br/><table class=\"wandb\"><tr><td>accuracy</td><td>▁▃▆▆▇▇██████████████</td></tr><tr><td>batch loss</td><td>▁█▅▂▂▁▁▁▁▁▁▁▁▁▁▁▁▁▁▁▁▁▁▁▁▁▁▁▁▁▁▁▁▁▁▁▁▁▁▁</td></tr><tr><td>epoch</td><td>▁▁▂▂▂▃▃▄▄▄▅▅▅▆▆▇▇▇██</td></tr><tr><td>loss</td><td>█▃▂▁▁▁▁▁▁▁▁▁▁▁▁▁▁▁▁▁</td></tr></table><br/></div><div class=\"wandb-col\"><h3>Run summary:</h3><br/><table class=\"wandb\"><tr><td>accuracy</td><td>1.0</td></tr><tr><td>batch loss</td><td>0.00236</td></tr><tr><td>epoch</td><td>19</td></tr><tr><td>loss</td><td>0.00219</td></tr></table><br/></div></div>"
      ],
      "text/plain": [
       "<IPython.core.display.HTML object>"
      ]
     },
     "metadata": {},
     "output_type": "display_data"
    },
    {
     "data": {
      "text/html": [
       " View run <strong style=\"color:#cdcd00\">worldly-sweep-22</strong> at: <a href='https://wandb.ai/nguyen/pytorch-sweeps-demo/runs/7nq79spy' target=\"_blank\">https://wandb.ai/nguyen/pytorch-sweeps-demo/runs/7nq79spy</a><br/>Synced 6 W&B file(s), 0 media file(s), 0 artifact file(s) and 0 other file(s)"
      ],
      "text/plain": [
       "<IPython.core.display.HTML object>"
      ]
     },
     "metadata": {},
     "output_type": "display_data"
    },
    {
     "data": {
      "text/html": [
       "Find logs at: <code>.\\wandb\\run-20231119_124816-7nq79spy\\logs</code>"
      ],
      "text/plain": [
       "<IPython.core.display.HTML object>"
      ]
     },
     "metadata": {},
     "output_type": "display_data"
    },
    {
     "name": "stderr",
     "output_type": "stream",
     "text": [
      "\u001b[34m\u001b[1mwandb\u001b[0m: Agent Starting Run: obfygp5h with config:\n",
      "\u001b[34m\u001b[1mwandb\u001b[0m: \tbatch_size: 56\n",
      "\u001b[34m\u001b[1mwandb\u001b[0m: \tepochs: 20\n",
      "\u001b[34m\u001b[1mwandb\u001b[0m: \tfc_layer_size: 512\n",
      "\u001b[34m\u001b[1mwandb\u001b[0m: \tlearning_rate: 0.0006575743797441523\n",
      "\u001b[34m\u001b[1mwandb\u001b[0m: \toptimizer: adam\n",
      "Failed to detect the name of this notebook, you can set it manually with the WANDB_NOTEBOOK_NAME environment variable to enable code saving.\n"
     ]
    },
    {
     "data": {
      "text/html": [
       "Tracking run with wandb version 0.16.0"
      ],
      "text/plain": [
       "<IPython.core.display.HTML object>"
      ]
     },
     "metadata": {},
     "output_type": "display_data"
    },
    {
     "data": {
      "text/html": [
       "Run data is saved locally in <code>d:\\pnstack\\template-pytorch-model\\wandb\\run-20231119_124922-obfygp5h</code>"
      ],
      "text/plain": [
       "<IPython.core.display.HTML object>"
      ]
     },
     "metadata": {},
     "output_type": "display_data"
    },
    {
     "data": {
      "text/html": [
       "Syncing run <strong><a href='https://wandb.ai/nguyen/pytorch-sweeps-demo/runs/obfygp5h' target=\"_blank\">peachy-sweep-23</a></strong> to <a href='https://wandb.ai/nguyen/pytorch-sweeps-demo' target=\"_blank\">Weights & Biases</a> (<a href='https://wandb.me/run' target=\"_blank\">docs</a>)<br/>Sweep page: <a href='https://wandb.ai/nguyen/pytorch-sweeps-demo/sweeps/04b419v1' target=\"_blank\">https://wandb.ai/nguyen/pytorch-sweeps-demo/sweeps/04b419v1</a>"
      ],
      "text/plain": [
       "<IPython.core.display.HTML object>"
      ]
     },
     "metadata": {},
     "output_type": "display_data"
    },
    {
     "data": {
      "text/html": [
       " View project at <a href='https://wandb.ai/nguyen/pytorch-sweeps-demo' target=\"_blank\">https://wandb.ai/nguyen/pytorch-sweeps-demo</a>"
      ],
      "text/plain": [
       "<IPython.core.display.HTML object>"
      ]
     },
     "metadata": {},
     "output_type": "display_data"
    },
    {
     "data": {
      "text/html": [
       " View sweep at <a href='https://wandb.ai/nguyen/pytorch-sweeps-demo/sweeps/04b419v1' target=\"_blank\">https://wandb.ai/nguyen/pytorch-sweeps-demo/sweeps/04b419v1</a>"
      ],
      "text/plain": [
       "<IPython.core.display.HTML object>"
      ]
     },
     "metadata": {},
     "output_type": "display_data"
    },
    {
     "data": {
      "text/html": [
       " View run at <a href='https://wandb.ai/nguyen/pytorch-sweeps-demo/runs/obfygp5h' target=\"_blank\">https://wandb.ai/nguyen/pytorch-sweeps-demo/runs/obfygp5h</a>"
      ],
      "text/plain": [
       "<IPython.core.display.HTML object>"
      ]
     },
     "metadata": {},
     "output_type": "display_data"
    },
    {
     "name": "stdout",
     "output_type": "stream",
     "text": [
      "config {'batch_size': 56, 'epochs': 20, 'fc_layer_size': 512, 'learning_rate': 0.0006575743797441523, 'optimizer': 'adam'}\n",
      "Epoch 0 avg loss: 9.903335551420847 accuracy: 0.5933333333333334\n",
      "Epoch 1 avg loss: 4.701019565264384 accuracy: 0.5533333333333333\n",
      "Epoch 2 avg loss: 1.080015463133653 accuracy: 0.8966666666666666\n",
      "Epoch 3 avg loss: 0.41621018946170807 accuracy: 0.9433333333333334\n",
      "Epoch 4 avg loss: 0.11898606022198994 accuracy: 0.98\n",
      "Epoch 5 avg loss: 0.06816582785298426 accuracy: 0.99\n",
      "Epoch 6 avg loss: 0.03616986842826009 accuracy: 1.0\n",
      "Epoch 7 avg loss: 0.014896179161344966 accuracy: 1.0\n",
      "Epoch 8 avg loss: 0.011506310547702014 accuracy: 1.0\n",
      "Epoch 9 avg loss: 0.007597031886689365 accuracy: 1.0\n",
      "Epoch 10 avg loss: 0.0056029298187543946 accuracy: 1.0\n",
      "Epoch 11 avg loss: 0.004087410323942701 accuracy: 1.0\n",
      "Epoch 12 avg loss: 0.002957169432193041 accuracy: 1.0\n",
      "Epoch 13 avg loss: 0.002359751049273958 accuracy: 1.0\n",
      "Epoch 14 avg loss: 0.001779299268188576 accuracy: 1.0\n",
      "Epoch 15 avg loss: 0.0013731500948779285 accuracy: 1.0\n",
      "Epoch 16 avg loss: 0.0011467354197520763 accuracy: 1.0\n",
      "Epoch 17 avg loss: 0.0008919178896273176 accuracy: 1.0\n",
      "Epoch 18 avg loss: 0.0007010671931008498 accuracy: 1.0\n",
      "Epoch 19 avg loss: 0.0005697817420392918 accuracy: 1.0\n"
     ]
    },
    {
     "data": {
      "text/html": [
       "<style>\n",
       "    table.wandb td:nth-child(1) { padding: 0 10px; text-align: left ; width: auto;} td:nth-child(2) {text-align: left ; width: 100%}\n",
       "    .wandb-row { display: flex; flex-direction: row; flex-wrap: wrap; justify-content: flex-start; width: 100% }\n",
       "    .wandb-col { display: flex; flex-direction: column; flex-basis: 100%; flex: 1; padding: 10px; }\n",
       "    </style>\n",
       "<div class=\"wandb-row\"><div class=\"wandb-col\"><h3>Run history:</h3><br/><table class=\"wandb\"><tr><td>accuracy</td><td>▂▁▆▇████████████████</td></tr><tr><td>batch loss</td><td>▂█▆▃▂▂▁▁▁▁▁▁▁▁▁▁▁▁▁▁▁▁▁▁▁▁▁▁▁▁▁▁▁▁▁▁▁▁▁▁</td></tr><tr><td>epoch</td><td>▁▁▂▂▂▃▃▄▄▄▅▅▅▆▆▇▇▇██</td></tr><tr><td>loss</td><td>█▄▂▁▁▁▁▁▁▁▁▁▁▁▁▁▁▁▁▁</td></tr></table><br/></div><div class=\"wandb-col\"><h3>Run summary:</h3><br/><table class=\"wandb\"><tr><td>accuracy</td><td>1.0</td></tr><tr><td>batch loss</td><td>0.00024</td></tr><tr><td>epoch</td><td>19</td></tr><tr><td>loss</td><td>0.00057</td></tr></table><br/></div></div>"
      ],
      "text/plain": [
       "<IPython.core.display.HTML object>"
      ]
     },
     "metadata": {},
     "output_type": "display_data"
    },
    {
     "data": {
      "text/html": [
       " View run <strong style=\"color:#cdcd00\">peachy-sweep-23</strong> at: <a href='https://wandb.ai/nguyen/pytorch-sweeps-demo/runs/obfygp5h' target=\"_blank\">https://wandb.ai/nguyen/pytorch-sweeps-demo/runs/obfygp5h</a><br/>Synced 6 W&B file(s), 0 media file(s), 0 artifact file(s) and 0 other file(s)"
      ],
      "text/plain": [
       "<IPython.core.display.HTML object>"
      ]
     },
     "metadata": {},
     "output_type": "display_data"
    },
    {
     "data": {
      "text/html": [
       "Find logs at: <code>.\\wandb\\run-20231119_124922-obfygp5h\\logs</code>"
      ],
      "text/plain": [
       "<IPython.core.display.HTML object>"
      ]
     },
     "metadata": {},
     "output_type": "display_data"
    },
    {
     "name": "stderr",
     "output_type": "stream",
     "text": [
      "\u001b[34m\u001b[1mwandb\u001b[0m: Agent Starting Run: xpaw3xtx with config:\n",
      "\u001b[34m\u001b[1mwandb\u001b[0m: \tbatch_size: 104\n",
      "\u001b[34m\u001b[1mwandb\u001b[0m: \tepochs: 30\n",
      "\u001b[34m\u001b[1mwandb\u001b[0m: \tfc_layer_size: 512\n",
      "\u001b[34m\u001b[1mwandb\u001b[0m: \tlearning_rate: 0.0003980820663366078\n",
      "\u001b[34m\u001b[1mwandb\u001b[0m: \toptimizer: adam\n",
      "Failed to detect the name of this notebook, you can set it manually with the WANDB_NOTEBOOK_NAME environment variable to enable code saving.\n"
     ]
    },
    {
     "data": {
      "text/html": [
       "Tracking run with wandb version 0.16.0"
      ],
      "text/plain": [
       "<IPython.core.display.HTML object>"
      ]
     },
     "metadata": {},
     "output_type": "display_data"
    },
    {
     "data": {
      "text/html": [
       "Run data is saved locally in <code>d:\\pnstack\\template-pytorch-model\\wandb\\run-20231119_125029-xpaw3xtx</code>"
      ],
      "text/plain": [
       "<IPython.core.display.HTML object>"
      ]
     },
     "metadata": {},
     "output_type": "display_data"
    },
    {
     "data": {
      "text/html": [
       "Syncing run <strong><a href='https://wandb.ai/nguyen/pytorch-sweeps-demo/runs/xpaw3xtx' target=\"_blank\">smooth-sweep-24</a></strong> to <a href='https://wandb.ai/nguyen/pytorch-sweeps-demo' target=\"_blank\">Weights & Biases</a> (<a href='https://wandb.me/run' target=\"_blank\">docs</a>)<br/>Sweep page: <a href='https://wandb.ai/nguyen/pytorch-sweeps-demo/sweeps/04b419v1' target=\"_blank\">https://wandb.ai/nguyen/pytorch-sweeps-demo/sweeps/04b419v1</a>"
      ],
      "text/plain": [
       "<IPython.core.display.HTML object>"
      ]
     },
     "metadata": {},
     "output_type": "display_data"
    },
    {
     "data": {
      "text/html": [
       " View project at <a href='https://wandb.ai/nguyen/pytorch-sweeps-demo' target=\"_blank\">https://wandb.ai/nguyen/pytorch-sweeps-demo</a>"
      ],
      "text/plain": [
       "<IPython.core.display.HTML object>"
      ]
     },
     "metadata": {},
     "output_type": "display_data"
    },
    {
     "data": {
      "text/html": [
       " View sweep at <a href='https://wandb.ai/nguyen/pytorch-sweeps-demo/sweeps/04b419v1' target=\"_blank\">https://wandb.ai/nguyen/pytorch-sweeps-demo/sweeps/04b419v1</a>"
      ],
      "text/plain": [
       "<IPython.core.display.HTML object>"
      ]
     },
     "metadata": {},
     "output_type": "display_data"
    },
    {
     "data": {
      "text/html": [
       " View run at <a href='https://wandb.ai/nguyen/pytorch-sweeps-demo/runs/xpaw3xtx' target=\"_blank\">https://wandb.ai/nguyen/pytorch-sweeps-demo/runs/xpaw3xtx</a>"
      ],
      "text/plain": [
       "<IPython.core.display.HTML object>"
      ]
     },
     "metadata": {},
     "output_type": "display_data"
    },
    {
     "name": "stdout",
     "output_type": "stream",
     "text": [
      "config {'batch_size': 104, 'epochs': 30, 'fc_layer_size': 512, 'learning_rate': 0.0003980820663366078, 'optimizer': 'adam'}\n",
      "Epoch 0 avg loss: 5.062711517016093 accuracy: 0.3433333333333333\n",
      "Epoch 1 avg loss: 3.3943236668904624 accuracy: 0.7133333333333334\n",
      "Epoch 2 avg loss: 0.8393203417460123 accuracy: 0.5833333333333334\n",
      "Epoch 3 avg loss: 1.0142684777577717 accuracy: 0.87\n",
      "Epoch 4 avg loss: 0.3504032492637634 accuracy: 0.8433333333333334\n",
      "Epoch 5 avg loss: 0.35366151730219525 accuracy: 0.8866666666666667\n",
      "Epoch 6 avg loss: 0.25075238943099976 accuracy: 0.9266666666666666\n",
      "Epoch 7 avg loss: 0.16470391551653543 accuracy: 0.96\n",
      "Epoch 8 avg loss: 0.11225331077973048 accuracy: 0.9666666666666667\n",
      "Epoch 9 avg loss: 0.0980972337226073 accuracy: 0.97\n",
      "Epoch 10 avg loss: 0.08187093834082286 accuracy: 0.99\n",
      "Epoch 11 avg loss: 0.05791024987896284 accuracy: 0.9966666666666667\n",
      "Epoch 12 avg loss: 0.0403053325911363 accuracy: 1.0\n",
      "Epoch 13 avg loss: 0.032867188875873886 accuracy: 1.0\n",
      "Epoch 14 avg loss: 0.026567254215478897 accuracy: 1.0\n",
      "Epoch 15 avg loss: 0.021979364256064098 accuracy: 1.0\n",
      "Epoch 16 avg loss: 0.017575605461994808 accuracy: 1.0\n",
      "Epoch 17 avg loss: 0.01345821749418974 accuracy: 1.0\n",
      "Epoch 18 avg loss: 0.01066031182805697 accuracy: 1.0\n",
      "Epoch 19 avg loss: 0.008515444584190845 accuracy: 1.0\n",
      "Epoch 20 avg loss: 0.006668068779011567 accuracy: 1.0\n",
      "Epoch 21 avg loss: 0.005201552528887987 accuracy: 1.0\n",
      "Epoch 22 avg loss: 0.0039800664720435934 accuracy: 1.0\n",
      "Epoch 23 avg loss: 0.0029810818377882242 accuracy: 1.0\n",
      "Epoch 24 avg loss: 0.00223967006119589 accuracy: 1.0\n",
      "Epoch 25 avg loss: 0.001721687032841146 accuracy: 1.0\n",
      "Epoch 26 avg loss: 0.001320929693368574 accuracy: 1.0\n",
      "Epoch 27 avg loss: 0.0010314794490113854 accuracy: 1.0\n",
      "Epoch 28 avg loss: 0.0008024672279134393 accuracy: 1.0\n",
      "Epoch 29 avg loss: 0.000649329973384738 accuracy: 1.0\n"
     ]
    },
    {
     "data": {
      "text/html": [
       "<style>\n",
       "    table.wandb td:nth-child(1) { padding: 0 10px; text-align: left ; width: auto;} td:nth-child(2) {text-align: left ; width: 100%}\n",
       "    .wandb-row { display: flex; flex-direction: row; flex-wrap: wrap; justify-content: flex-start; width: 100% }\n",
       "    .wandb-col { display: flex; flex-direction: column; flex-basis: 100%; flex: 1; padding: 10px; }\n",
       "    </style>\n",
       "<div class=\"wandb-row\"><div class=\"wandb-col\"><h3>Run history:</h3><br/><table class=\"wandb\"><tr><td>accuracy</td><td>▁▅▄▇▆▇▇███████████████████████</td></tr><tr><td>batch loss</td><td>▂█▅▂▂▂▁▁▁▁▁▁▁▁▁▁▁▁▁▁▁▁▁▁▁▁▁▁▁▁▁▁▁▁▁▁▁▁▁▁</td></tr><tr><td>epoch</td><td>▁▁▁▂▂▂▂▃▃▃▃▄▄▄▄▅▅▅▅▆▆▆▆▇▇▇▇███</td></tr><tr><td>loss</td><td>█▆▂▂▁▁▁▁▁▁▁▁▁▁▁▁▁▁▁▁▁▁▁▁▁▁▁▁▁▁</td></tr></table><br/></div><div class=\"wandb-col\"><h3>Run summary:</h3><br/><table class=\"wandb\"><tr><td>accuracy</td><td>1.0</td></tr><tr><td>batch loss</td><td>0.00056</td></tr><tr><td>epoch</td><td>29</td></tr><tr><td>loss</td><td>0.00065</td></tr></table><br/></div></div>"
      ],
      "text/plain": [
       "<IPython.core.display.HTML object>"
      ]
     },
     "metadata": {},
     "output_type": "display_data"
    },
    {
     "data": {
      "text/html": [
       " View run <strong style=\"color:#cdcd00\">smooth-sweep-24</strong> at: <a href='https://wandb.ai/nguyen/pytorch-sweeps-demo/runs/xpaw3xtx' target=\"_blank\">https://wandb.ai/nguyen/pytorch-sweeps-demo/runs/xpaw3xtx</a><br/>Synced 6 W&B file(s), 0 media file(s), 0 artifact file(s) and 0 other file(s)"
      ],
      "text/plain": [
       "<IPython.core.display.HTML object>"
      ]
     },
     "metadata": {},
     "output_type": "display_data"
    },
    {
     "data": {
      "text/html": [
       "Find logs at: <code>.\\wandb\\run-20231119_125029-xpaw3xtx\\logs</code>"
      ],
      "text/plain": [
       "<IPython.core.display.HTML object>"
      ]
     },
     "metadata": {},
     "output_type": "display_data"
    },
    {
     "name": "stderr",
     "output_type": "stream",
     "text": [
      "\u001b[34m\u001b[1mwandb\u001b[0m: Agent Starting Run: f90ox7w8 with config:\n",
      "\u001b[34m\u001b[1mwandb\u001b[0m: \tbatch_size: 48\n",
      "\u001b[34m\u001b[1mwandb\u001b[0m: \tepochs: 20\n",
      "\u001b[34m\u001b[1mwandb\u001b[0m: \tfc_layer_size: 512\n",
      "\u001b[34m\u001b[1mwandb\u001b[0m: \tlearning_rate: 0.0009607460347692044\n",
      "\u001b[34m\u001b[1mwandb\u001b[0m: \toptimizer: adam\n",
      "Failed to detect the name of this notebook, you can set it manually with the WANDB_NOTEBOOK_NAME environment variable to enable code saving.\n"
     ]
    },
    {
     "data": {
      "text/html": [
       "Tracking run with wandb version 0.16.0"
      ],
      "text/plain": [
       "<IPython.core.display.HTML object>"
      ]
     },
     "metadata": {},
     "output_type": "display_data"
    },
    {
     "data": {
      "text/html": [
       "Run data is saved locally in <code>d:\\pnstack\\template-pytorch-model\\wandb\\run-20231119_125139-f90ox7w8</code>"
      ],
      "text/plain": [
       "<IPython.core.display.HTML object>"
      ]
     },
     "metadata": {},
     "output_type": "display_data"
    },
    {
     "data": {
      "text/html": [
       "Syncing run <strong><a href='https://wandb.ai/nguyen/pytorch-sweeps-demo/runs/f90ox7w8' target=\"_blank\">hearty-sweep-25</a></strong> to <a href='https://wandb.ai/nguyen/pytorch-sweeps-demo' target=\"_blank\">Weights & Biases</a> (<a href='https://wandb.me/run' target=\"_blank\">docs</a>)<br/>Sweep page: <a href='https://wandb.ai/nguyen/pytorch-sweeps-demo/sweeps/04b419v1' target=\"_blank\">https://wandb.ai/nguyen/pytorch-sweeps-demo/sweeps/04b419v1</a>"
      ],
      "text/plain": [
       "<IPython.core.display.HTML object>"
      ]
     },
     "metadata": {},
     "output_type": "display_data"
    },
    {
     "data": {
      "text/html": [
       " View project at <a href='https://wandb.ai/nguyen/pytorch-sweeps-demo' target=\"_blank\">https://wandb.ai/nguyen/pytorch-sweeps-demo</a>"
      ],
      "text/plain": [
       "<IPython.core.display.HTML object>"
      ]
     },
     "metadata": {},
     "output_type": "display_data"
    },
    {
     "data": {
      "text/html": [
       " View sweep at <a href='https://wandb.ai/nguyen/pytorch-sweeps-demo/sweeps/04b419v1' target=\"_blank\">https://wandb.ai/nguyen/pytorch-sweeps-demo/sweeps/04b419v1</a>"
      ],
      "text/plain": [
       "<IPython.core.display.HTML object>"
      ]
     },
     "metadata": {},
     "output_type": "display_data"
    },
    {
     "data": {
      "text/html": [
       " View run at <a href='https://wandb.ai/nguyen/pytorch-sweeps-demo/runs/f90ox7w8' target=\"_blank\">https://wandb.ai/nguyen/pytorch-sweeps-demo/runs/f90ox7w8</a>"
      ],
      "text/plain": [
       "<IPython.core.display.HTML object>"
      ]
     },
     "metadata": {},
     "output_type": "display_data"
    },
    {
     "name": "stdout",
     "output_type": "stream",
     "text": [
      "config {'batch_size': 48, 'epochs': 20, 'fc_layer_size': 512, 'learning_rate': 0.0009607460347692044, 'optimizer': 'adam'}\n",
      "Epoch 0 avg loss: 25.255474090576172 accuracy: 0.5933333333333334\n",
      "Epoch 1 avg loss: 5.102003284863064 accuracy: 0.5866666666666667\n",
      "Epoch 2 avg loss: 0.8636805542877742 accuracy: 0.7366666666666667\n",
      "Epoch 3 avg loss: 0.6188298123223441 accuracy: 0.8166666666666667\n",
      "Epoch 4 avg loss: 0.27566932354654583 accuracy: 0.9366666666666666\n",
      "Epoch 5 avg loss: 0.12154114033494677 accuracy: 0.9666666666666667\n",
      "Epoch 6 avg loss: 0.05851750440030758 accuracy: 0.9966666666666667\n",
      "Epoch 7 avg loss: 0.030152809540075914 accuracy: 1.0\n",
      "Epoch 8 avg loss: 0.01572604657017759 accuracy: 1.0\n",
      "Epoch 9 avg loss: 0.008001219414706742 accuracy: 1.0\n",
      "Epoch 10 avg loss: 0.0068940040988049334 accuracy: 1.0\n",
      "Epoch 11 avg loss: 0.0046819809358567 accuracy: 1.0\n",
      "Epoch 12 avg loss: 0.003610321969193007 accuracy: 1.0\n",
      "Epoch 13 avg loss: 0.0037284358737191985 accuracy: 1.0\n",
      "Epoch 14 avg loss: 0.002716043115859585 accuracy: 1.0\n",
      "Epoch 15 avg loss: 0.002497990316312228 accuracy: 1.0\n",
      "Epoch 16 avg loss: 0.0021978149889037013 accuracy: 1.0\n",
      "Epoch 17 avg loss: 0.0022922364961622016 accuracy: 1.0\n",
      "Epoch 18 avg loss: 0.0021205566258036663 accuracy: 1.0\n",
      "Epoch 19 avg loss: 0.001688087616847562 accuracy: 1.0\n"
     ]
    },
    {
     "data": {
      "text/html": [
       "<style>\n",
       "    table.wandb td:nth-child(1) { padding: 0 10px; text-align: left ; width: auto;} td:nth-child(2) {text-align: left ; width: 100%}\n",
       "    .wandb-row { display: flex; flex-direction: row; flex-wrap: wrap; justify-content: flex-start; width: 100% }\n",
       "    .wandb-col { display: flex; flex-direction: column; flex-basis: 100%; flex: 1; padding: 10px; }\n",
       "    </style>\n",
       "<div class=\"wandb-row\"><div class=\"wandb-col\"><h3>Run history:</h3><br/><table class=\"wandb\"><tr><td>accuracy</td><td>▁▁▄▅▇▇██████████████</td></tr><tr><td>batch loss</td><td>█▇▂▁▁▁▁▁▁▁▁▁▁▁▁▁▁▁▁▁▁▁▁▁▁▁▁▁▁▁▁▁▁▁▁▁▁▁▁▁</td></tr><tr><td>epoch</td><td>▁▁▂▂▂▃▃▄▄▄▅▅▅▆▆▇▇▇██</td></tr><tr><td>loss</td><td>█▂▁▁▁▁▁▁▁▁▁▁▁▁▁▁▁▁▁▁</td></tr></table><br/></div><div class=\"wandb-col\"><h3>Run summary:</h3><br/><table class=\"wandb\"><tr><td>accuracy</td><td>1.0</td></tr><tr><td>batch loss</td><td>0.00085</td></tr><tr><td>epoch</td><td>19</td></tr><tr><td>loss</td><td>0.00169</td></tr></table><br/></div></div>"
      ],
      "text/plain": [
       "<IPython.core.display.HTML object>"
      ]
     },
     "metadata": {},
     "output_type": "display_data"
    },
    {
     "data": {
      "text/html": [
       " View run <strong style=\"color:#cdcd00\">hearty-sweep-25</strong> at: <a href='https://wandb.ai/nguyen/pytorch-sweeps-demo/runs/f90ox7w8' target=\"_blank\">https://wandb.ai/nguyen/pytorch-sweeps-demo/runs/f90ox7w8</a><br/>Synced 6 W&B file(s), 0 media file(s), 0 artifact file(s) and 0 other file(s)"
      ],
      "text/plain": [
       "<IPython.core.display.HTML object>"
      ]
     },
     "metadata": {},
     "output_type": "display_data"
    },
    {
     "data": {
      "text/html": [
       "Find logs at: <code>.\\wandb\\run-20231119_125139-f90ox7w8\\logs</code>"
      ],
      "text/plain": [
       "<IPython.core.display.HTML object>"
      ]
     },
     "metadata": {},
     "output_type": "display_data"
    }
   ],
   "source": [
    "wandb.agent(sweep_id, train, count=20)"
   ]
  }
 ],
 "metadata": {
  "kernelspec": {
   "display_name": "mlgpu",
   "language": "python",
   "name": "python3"
  },
  "language_info": {
   "codemirror_mode": {
    "name": "ipython",
    "version": 3
   },
   "file_extension": ".py",
   "mimetype": "text/x-python",
   "name": "python",
   "nbconvert_exporter": "python",
   "pygments_lexer": "ipython3",
   "version": "3.10.7"
  }
 },
 "nbformat": 4,
 "nbformat_minor": 2
}
